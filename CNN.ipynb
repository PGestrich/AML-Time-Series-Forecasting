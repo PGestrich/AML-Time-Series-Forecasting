{
 "cells": [
  {
   "cell_type": "markdown",
   "id": "c7425fb5",
   "metadata": {
    "id": "NCuQyjbeCCT8",
    "papermill": {
     "duration": 0.005979,
     "end_time": "2022-08-23T11:41:37.149671",
     "exception": false,
     "start_time": "2022-08-23T11:41:37.143692",
     "status": "completed"
    },
    "tags": []
   },
   "source": [
    "# AML Project - Time Series Forecasting"
   ]
  },
  {
   "cell_type": "markdown",
   "id": "3ac28fd5",
   "metadata": {
    "id": "z9QuDMrsIomH",
    "papermill": {
     "duration": 0.004599,
     "end_time": "2022-08-23T11:41:37.159444",
     "exception": false,
     "start_time": "2022-08-23T11:41:37.154845",
     "status": "completed"
    },
    "tags": []
   },
   "source": [
    "## Data Stuff"
   ]
  },
  {
   "cell_type": "markdown",
   "id": "0f2a2544",
   "metadata": {
    "id": "tOsH5XzxCRAb",
    "papermill": {
     "duration": 0.004599,
     "end_time": "2022-08-23T11:41:37.168979",
     "exception": false,
     "start_time": "2022-08-23T11:41:37.164380",
     "status": "completed"
    },
    "tags": []
   },
   "source": [
    "### 1. Utility / Loading Data"
   ]
  },
  {
   "cell_type": "code",
   "execution_count": 1,
   "id": "fe05f19f",
   "metadata": {
    "execution": {
     "iopub.execute_input": "2022-08-23T11:41:37.182270Z",
     "iopub.status.busy": "2022-08-23T11:41:37.181208Z",
     "iopub.status.idle": "2022-08-23T11:41:37.199645Z",
     "shell.execute_reply": "2022-08-23T11:41:37.198582Z"
    },
    "id": "IY2OImMBATqc",
    "papermill": {
     "duration": 0.028453,
     "end_time": "2022-08-23T11:41:37.202560",
     "exception": false,
     "start_time": "2022-08-23T11:41:37.174107",
     "status": "completed"
    },
    "tags": []
   },
   "outputs": [
    {
     "name": "stdout",
     "output_type": "stream",
     "text": [
      "/kaggle/input/store-sales-time-series-forecasting/oil.csv\n",
      "/kaggle/input/store-sales-time-series-forecasting/sample_submission.csv\n",
      "/kaggle/input/store-sales-time-series-forecasting/holidays_events.csv\n",
      "/kaggle/input/store-sales-time-series-forecasting/stores.csv\n",
      "/kaggle/input/store-sales-time-series-forecasting/train.csv\n",
      "/kaggle/input/store-sales-time-series-forecasting/test.csv\n",
      "/kaggle/input/store-sales-time-series-forecasting/transactions.csv\n"
     ]
    }
   ],
   "source": [
    "# This Python 3 environment comes with many helpful analytics libraries installed\n",
    "# It is defined by the kaggle/python Docker image: https://github.com/kaggle/docker-python\n",
    "# For example, here's several helpful packages to load\n",
    "\n",
    "import numpy as np # linear algebra\n",
    "import pandas as pd # data processing, CSV file I/O (e.g. pd.read_csv)\n",
    "\n",
    "# Input data files are available in the read-only \"../input/\" directory\n",
    "# For example, running this (by clicking run or pressing Shift+Enter) will list all files under the input directory\n",
    "\n",
    "import os\n",
    "for dirname, _, filenames in os.walk('/kaggle/input'):\n",
    "    for filename in filenames:\n",
    "        print(os.path.join(dirname, filename))\n",
    "\n",
    "# You can write up to 20GB to the current directory (/kaggle/working/) that gets preserved as output when you create a version using \"Save & Run All\" \n",
    "# You can also write temporary files to /kaggle/temp/, but they won't be saved outside of the current session\n",
    "\n"
   ]
  },
  {
   "cell_type": "code",
   "execution_count": 2,
   "id": "ffec0e0d",
   "metadata": {
    "execution": {
     "iopub.execute_input": "2022-08-23T11:41:37.215065Z",
     "iopub.status.busy": "2022-08-23T11:41:37.214580Z",
     "iopub.status.idle": "2022-08-23T11:41:40.158078Z",
     "shell.execute_reply": "2022-08-23T11:41:40.156667Z"
    },
    "id": "Sc98a1pR_BgU",
    "papermill": {
     "duration": 2.953429,
     "end_time": "2022-08-23T11:41:40.161204",
     "exception": false,
     "start_time": "2022-08-23T11:41:37.207775",
     "status": "completed"
    },
    "tags": []
   },
   "outputs": [],
   "source": [
    "path = '/kaggle/input/store-sales-time-series-forecasting/'\n",
    "\n",
    "oil = pd.read_csv(path + 'oil.csv')\n",
    "holidays = pd.read_csv(path +'holidays_events.csv')\n",
    "stores = pd.read_csv(path + 'stores.csv')\n",
    "train = pd.read_csv(path + 'train.csv')\n",
    "transactions = pd.read_csv(path + 'transactions.csv')\n",
    "test = pd.read_csv(path + 'test.csv')\n",
    "\n"
   ]
  },
  {
   "cell_type": "markdown",
   "id": "859023ba",
   "metadata": {
    "id": "wA5KLqjiH573",
    "papermill": {
     "duration": 0.004724,
     "end_time": "2022-08-23T11:41:40.171167",
     "exception": false,
     "start_time": "2022-08-23T11:41:40.166443",
     "status": "completed"
    },
    "tags": []
   },
   "source": [
    "## Process Data\n",
    "\n",
    "holiday handling:\n",
    "\n",
    "0: work day\n",
    "\n",
    "1 - weekend / bridge day\n",
    "\n",
    "2 - holiday\n",
    "\n",
    "type additional: ??? \n",
    "\n",
    "transferred holidays are considered normal days\n",
    "\n",
    "only first holiday in holidays is considered\n",
    "\n",
    "\n"
   ]
  },
  {
   "cell_type": "code",
   "execution_count": 3,
   "id": "bf644f69",
   "metadata": {
    "execution": {
     "iopub.execute_input": "2022-08-23T11:41:40.184073Z",
     "iopub.status.busy": "2022-08-23T11:41:40.182777Z",
     "iopub.status.idle": "2022-08-23T11:41:50.909173Z",
     "shell.execute_reply": "2022-08-23T11:41:50.907852Z"
    },
    "id": "CLUJ2Y21QSIp",
    "papermill": {
     "duration": 10.736241,
     "end_time": "2022-08-23T11:41:50.912381",
     "exception": false,
     "start_time": "2022-08-23T11:41:40.176140",
     "status": "completed"
    },
    "tags": []
   },
   "outputs": [],
   "source": [
    "#change dtype of date column to datetime\n",
    "oil['date'] = oil['date'].apply(pd.to_datetime)\n",
    "holidays['date'] = holidays['date'].apply(pd.to_datetime)\n",
    "train['date']=pd.to_datetime(train ['date'])\n",
    "#train['date'] = train['date'].apply(pd.to_datetime)\n",
    "transactions['date'] = transactions['date'].apply(pd.to_datetime)\n",
    "test['date'] = test['date'].apply(pd.to_datetime)"
   ]
  },
  {
   "cell_type": "code",
   "execution_count": 4,
   "id": "8414b8e9",
   "metadata": {
    "execution": {
     "iopub.execute_input": "2022-08-23T11:41:50.924507Z",
     "iopub.status.busy": "2022-08-23T11:41:50.923794Z",
     "iopub.status.idle": "2022-08-23T11:42:46.283231Z",
     "shell.execute_reply": "2022-08-23T11:42:46.281891Z"
    },
    "id": "gKsNO8SaglS2",
    "papermill": {
     "duration": 55.368886,
     "end_time": "2022-08-23T11:42:46.286348",
     "exception": false,
     "start_time": "2022-08-23T11:41:50.917462",
     "status": "completed"
    },
    "tags": []
   },
   "outputs": [],
   "source": [
    "from sklearn.preprocessing import LabelEncoder\n",
    "#expand oil to include all dates + interpolate missing data\n",
    "oil = oil.set_index('date').asfreq('D').reset_index()\n",
    "oil['dcoilwtico'] = oil['dcoilwtico'].interpolate('linear').ffill().bfill()\n",
    "train = train.merge(oil)\n",
    "train = train.rename(columns={\"dcoilwtico\": \"oilprice\"})\n",
    "\n",
    "\n",
    "#change family names & type to numeric values\n",
    "encoder_family = LabelEncoder()\n",
    "train['family_id']=encoder_family.fit_transform(train['family'])\n",
    "\n",
    "\n",
    "#split up date into multiple informations\n",
    "train['day'] = train['date'].apply(lambda time: time.day)\n",
    "train['month'] = train['date'].apply(lambda time: time.month)\n",
    "train['weekday'] = train['date'].apply(lambda time: time.dayofweek)\n",
    "train['year'] = train['date'].apply(lambda time: time.year)\n",
    "\n",
    "#remove noise - half a year after earthquake\n",
    "to_drop = train.loc[train['date'].between('2016-04-16', '2016-10-16')]\n",
    "train = train.drop(to_drop.index)"
   ]
  },
  {
   "cell_type": "markdown",
   "id": "4dab66c9",
   "metadata": {
    "id": "hmChoGmCn7-b",
    "papermill": {
     "duration": 0.004559,
     "end_time": "2022-08-23T11:42:46.296103",
     "exception": false,
     "start_time": "2022-08-23T11:42:46.291544",
     "status": "completed"
    },
    "tags": []
   },
   "source": [
    "prob. faster: do holiday lookup table with clusters instead of store numbers"
   ]
  },
  {
   "cell_type": "code",
   "execution_count": 5,
   "id": "36912ac9",
   "metadata": {
    "execution": {
     "iopub.execute_input": "2022-08-23T11:42:46.308017Z",
     "iopub.status.busy": "2022-08-23T11:42:46.307279Z",
     "iopub.status.idle": "2022-08-23T11:44:59.518771Z",
     "shell.execute_reply": "2022-08-23T11:44:59.517596Z"
    },
    "id": "a5FWlqQagF-j",
    "papermill": {
     "duration": 133.220812,
     "end_time": "2022-08-23T11:44:59.521664",
     "exception": false,
     "start_time": "2022-08-23T11:42:46.300852",
     "status": "completed"
    },
    "tags": []
   },
   "outputs": [],
   "source": [
    "#holiday handling\n",
    "def isholiday(row):\n",
    "  #data\n",
    "  date = row['date']\n",
    "  event = holidays.loc[holidays['date'] == date][0:1]\n",
    "  id = row['store_nbr']\n",
    "  city = stores.loc[stores['store_nbr'] == id]['city'].values\n",
    "  state = stores.loc[stores['store_nbr'] == id]['state'].values\n",
    "  \n",
    "  \n",
    "  #check if events apply:\n",
    "  if len(event) > 0:\n",
    "    national = event['locale'].values == 'National'\n",
    "    regional = event['locale'].values == 'Regional' and event['locale_name'].values == state\n",
    "    local = event['locale'].values == 'Local' and event['locale_name'].values == city\n",
    "    \n",
    "    if national[0] or regional[0] or local[0]:\n",
    "      if event['type'].values == 'Holiday' and  event['transferred'].values == False:\n",
    "        return 2\n",
    "      elif event['type'].values == 'Transfer':\n",
    "        return 2\n",
    "      elif event['type'].values == 'Bridge':\n",
    "        return 1\n",
    "      elif event['type'].values == 'Work Day':\n",
    "        return 0\n",
    "\n",
    "  #otherwise: check if weekend\n",
    "  if row['weekday']< 5:\n",
    "    return 0\n",
    "  else: \n",
    "    return 1\n",
    "\n",
    "\n",
    "#lookup table  (adds dates to stores table and gets holiday type)\n",
    "date1, date2 = train['date'].min(), train['date'].max()\n",
    "holiday_lookup = stores[['store_nbr', 'type', 'cluster']].copy()\n",
    "holiday_lookup.loc[:,'holiday'] = 0\n",
    "\n",
    "holiday_lookup = pd.merge(holiday_lookup, pd.DataFrame({'date': pd.date_range(date1, date2, freq = 'd')}), how = \"cross\")\n",
    "holiday_lookup['weekday'] = holiday_lookup['date'].apply(lambda time: time.dayofweek)\n",
    "holiday_lookup.loc[:, 'holiday'] = holiday_lookup.apply(lambda row: isholiday(row), axis = 1)\n",
    "holiday_lookup = holiday_lookup.drop('weekday', axis = 1)\n",
    "\n",
    "\n",
    "#join with train\n",
    "train = train.merge(holiday_lookup)\n",
    "\n",
    "encoder_type = LabelEncoder()\n",
    "train['type']=encoder_type.fit_transform(train['type'])"
   ]
  },
  {
   "cell_type": "code",
   "execution_count": 6,
   "id": "4359f88e",
   "metadata": {
    "execution": {
     "iopub.execute_input": "2022-08-23T11:44:59.533430Z",
     "iopub.status.busy": "2022-08-23T11:44:59.533030Z",
     "iopub.status.idle": "2022-08-23T11:44:59.982878Z",
     "shell.execute_reply": "2022-08-23T11:44:59.981659Z"
    },
    "id": "M4-zWB2urv_k",
    "papermill": {
     "duration": 0.45876,
     "end_time": "2022-08-23T11:44:59.985718",
     "exception": false,
     "start_time": "2022-08-23T11:44:59.526958",
     "status": "completed"
    },
    "tags": []
   },
   "outputs": [],
   "source": [
    "# preprocess test data\n",
    "test = test.merge(oil)\n",
    "test = test.rename(columns={\"dcoilwtico\": \"oilprice\"})\n",
    "\n",
    "\n",
    "\n",
    "#change family names & type to numeric values\n",
    "test['family_id']=encoder_family.fit_transform(test['family'])\n",
    "\n",
    "\n",
    "\n",
    "#split up date into multiple informations\n",
    "test['day'] = test['date'].apply(lambda time: time.day)\n",
    "test['month'] = test['date'].apply(lambda time: time.month)\n",
    "test['weekday'] = test['date'].apply(lambda time: time.dayofweek)\n",
    "test['year'] = test['date'].apply(lambda time: time.year)"
   ]
  },
  {
   "cell_type": "code",
   "execution_count": 7,
   "id": "0f369130",
   "metadata": {
    "execution": {
     "iopub.execute_input": "2022-08-23T11:44:59.997730Z",
     "iopub.status.busy": "2022-08-23T11:44:59.997333Z",
     "iopub.status.idle": "2022-08-23T11:45:01.283844Z",
     "shell.execute_reply": "2022-08-23T11:45:01.282447Z"
    },
    "id": "Z5g2gLNytDAy",
    "papermill": {
     "duration": 1.29593,
     "end_time": "2022-08-23T11:45:01.286692",
     "exception": false,
     "start_time": "2022-08-23T11:44:59.990762",
     "status": "completed"
    },
    "tags": []
   },
   "outputs": [],
   "source": [
    "#test holiday handling\n",
    "\n",
    "#holiday handling\n",
    "def isholiday(row):\n",
    "  #data\n",
    "  date = row['date']\n",
    "  event = holidays.loc[holidays['date'] == date][0:1]\n",
    "  id = row['store_nbr']\n",
    "  city = stores.loc[stores['store_nbr'] == id]['city'].values\n",
    "  state = stores.loc[stores['store_nbr'] == id]['state'].values\n",
    "  \n",
    "  \n",
    "  #check if events apply:\n",
    "  if len(event) > 0:\n",
    "    national = event['locale'].values == 'National'\n",
    "    regional = event['locale'].values == 'Regional' and event['locale_name'].values == state\n",
    "    local = event['locale'].values == 'Local' and event['locale_name'].values == city\n",
    "    \n",
    "    if national[0] or regional[0] or local[0]:\n",
    "      if event['type'].values == 'Holiday' and  event['transferred'].values == False:\n",
    "        return 2\n",
    "      elif event['type'].values == 'Transfer':\n",
    "        return 2\n",
    "      elif event['type'].values == 'Bridge':\n",
    "        return 1\n",
    "      elif event['type'].values == 'Work Day':\n",
    "        return 0\n",
    "\n",
    "  #otherwise: check if weekend\n",
    "  if row['weekday']< 5:\n",
    "    return 0\n",
    "  else: \n",
    "    return 1\n",
    "\n",
    "\n",
    "#lookup table  (adds dates to stores table and gets holiday type)\n",
    "date1, date2 = test['date'].min(), test['date'].max()\n",
    "holiday_lookup = stores[['store_nbr', 'type', 'cluster']].copy()\n",
    "holiday_lookup.loc[:,'holiday'] = 0\n",
    "\n",
    "holiday_lookup = pd.merge(holiday_lookup, pd.DataFrame({'date': pd.date_range(date1, date2, freq = 'd')}), how = \"cross\")\n",
    "holiday_lookup['weekday'] = holiday_lookup['date'].apply(lambda time: time.dayofweek)\n",
    "holiday_lookup.loc[:, 'holiday'] = holiday_lookup.apply(lambda row: isholiday(row), axis = 1)\n",
    "holiday_lookup = holiday_lookup.drop('weekday', axis = 1)\n",
    "\n",
    "\n",
    "#join with train\n",
    "test = test.merge(holiday_lookup)\n",
    "test['type']=encoder_type.fit_transform(test['type'])"
   ]
  },
  {
   "cell_type": "code",
   "execution_count": 8,
   "id": "e8126116",
   "metadata": {
    "execution": {
     "iopub.execute_input": "2022-08-23T11:45:01.298993Z",
     "iopub.status.busy": "2022-08-23T11:45:01.298044Z",
     "iopub.status.idle": "2022-08-23T11:45:01.638877Z",
     "shell.execute_reply": "2022-08-23T11:45:01.637609Z"
    },
    "id": "wYlcGXaBpiul",
    "papermill": {
     "duration": 0.349895,
     "end_time": "2022-08-23T11:45:01.641649",
     "exception": false,
     "start_time": "2022-08-23T11:45:01.291754",
     "status": "completed"
    },
    "tags": []
   },
   "outputs": [],
   "source": [
    "from sklearn.metrics import mean_squared_error\n",
    "from sklearn.ensemble import RandomForestRegressor"
   ]
  },
  {
   "cell_type": "markdown",
   "id": "04bfa429",
   "metadata": {
    "id": "NF3pC2DhqnYj",
    "papermill": {
     "duration": 0.004679,
     "end_time": "2022-08-23T11:45:01.651388",
     "exception": false,
     "start_time": "2022-08-23T11:45:01.646709",
     "status": "completed"
    },
    "tags": []
   },
   "source": [
    "## Full Dataset"
   ]
  },
  {
   "cell_type": "code",
   "execution_count": 9,
   "id": "32795522",
   "metadata": {
    "execution": {
     "iopub.execute_input": "2022-08-23T11:45:01.664769Z",
     "iopub.status.busy": "2022-08-23T11:45:01.664131Z",
     "iopub.status.idle": "2022-08-23T11:45:08.370197Z",
     "shell.execute_reply": "2022-08-23T11:45:08.368720Z"
    },
    "papermill": {
     "duration": 6.716096,
     "end_time": "2022-08-23T11:45:08.373603",
     "exception": false,
     "start_time": "2022-08-23T11:45:01.657507",
     "status": "completed"
    },
    "tags": []
   },
   "outputs": [],
   "source": [
    "import tensorflow as tf\n",
    "from tensorflow import keras\n",
    "from keras.models import Sequential\n",
    "from keras.layers import Dense\n",
    "\n",
    "\n",
    "cols = ['store_nbr', 'onpromotion', 'oilprice', 'holiday', 'weekday', 'day', 'month', 'type', 'cluster', 'family_id']\n",
    "X = train[cols].values\n",
    "Y = train['sales'].values.ravel()"
   ]
  },
  {
   "cell_type": "code",
   "execution_count": 10,
   "id": "8bd90982",
   "metadata": {
    "execution": {
     "iopub.execute_input": "2022-08-23T11:45:08.386852Z",
     "iopub.status.busy": "2022-08-23T11:45:08.386078Z",
     "iopub.status.idle": "2022-08-23T11:45:08.406304Z",
     "shell.execute_reply": "2022-08-23T11:45:08.404877Z"
    },
    "id": "naHOp3cMpmmT",
    "papermill": {
     "duration": 0.029411,
     "end_time": "2022-08-23T11:45:08.408666",
     "exception": false,
     "start_time": "2022-08-23T11:45:08.379255",
     "status": "completed"
    },
    "tags": []
   },
   "outputs": [
    {
     "name": "stdout",
     "output_type": "stream",
     "text": [
      "REPLICAS:  1\n"
     ]
    }
   ],
   "source": [
    "n_features = len(cols)\n",
    "\n",
    "try:\n",
    "    tpu = tf.distribute.cluster_resolver.TPUClusterResolver() \n",
    "    print('Running on TPU ', tpu.master())\n",
    "except ValueError:\n",
    "    tpu = None\n",
    "\n",
    "if tpu:\n",
    "    tf.config.experimental_connect_to_cluster(tpu)\n",
    "    tf.tpu.experimental.initialize_tpu_system(tpu)\n",
    "    strategy = tf.distribute.experimental.TPUStrategy(tpu)\n",
    "else:\n",
    "    strategy = tf.distribute.get_strategy() \n",
    "\n",
    "print(\"REPLICAS: \", strategy.num_replicas_in_sync)\n",
    "    \n",
    "    \n",
    "def CNN_Model(cols):\n",
    "  n_features = len(cols)\n",
    "  model = keras.Sequential()\n",
    "  model.add(Dense(50, activation='relu'))\n",
    "  model.add(Dense(1, activation = 'softplus'))\n",
    "  model.compile(optimizer='adam', loss=\"mean_squared_logarithmic_error\")\n",
    "  return model\n",
    "\n",
    "from sklearn import preprocessing\n",
    "\n",
    "def scale(X,Y):\n",
    "  scaler = preprocessing.StandardScaler().fit(X)\n",
    "  X_scaled = scaler.transform(X)\n",
    "  Y_scaled = scaler.transform(Y)\n",
    "  return X_scaled, Y_scaled"
   ]
  },
  {
   "cell_type": "code",
   "execution_count": 11,
   "id": "bc37f6ff",
   "metadata": {
    "execution": {
     "iopub.execute_input": "2022-08-23T11:45:08.421089Z",
     "iopub.status.busy": "2022-08-23T11:45:08.420064Z",
     "iopub.status.idle": "2022-08-23T11:59:41.535837Z",
     "shell.execute_reply": "2022-08-23T11:59:41.533635Z"
    },
    "id": "ltOu00dsrGAE",
    "papermill": {
     "duration": 873.130882,
     "end_time": "2022-08-23T11:59:41.544720",
     "exception": false,
     "start_time": "2022-08-23T11:45:08.413838",
     "status": "completed"
    },
    "tags": []
   },
   "outputs": [
    {
     "name": "stderr",
     "output_type": "stream",
     "text": [
      "2022-08-23 11:45:09.085447: I tensorflow/core/common_runtime/process_util.cc:146] Creating new thread pool with default inter op setting: 2. Tune using inter_op_parallelism_threads for best performance.\n",
      "2022-08-23 11:45:09.220671: I tensorflow/compiler/mlir/mlir_graph_optimization_pass.cc:185] None of the MLIR Optimization Passes are enabled (registered 2)\n"
     ]
    },
    {
     "name": "stdout",
     "output_type": "stream",
     "text": [
      "group  0  done \n",
      "group  1  done \n",
      "group  2  done \n",
      "group  3  done \n",
      "group  4  done \n",
      "group  5  done \n",
      "group  6  done \n",
      "group  7  done \n",
      "group  8  done \n",
      "group  9  done \n",
      "group  10  done \n",
      "group  11  done \n",
      "group  12  done \n",
      "group  13  done \n",
      "group  14  done \n",
      "group  15  done \n",
      "group  16  done \n",
      "group  17  done \n",
      "group  18  done \n",
      "group  19  done \n",
      "group  20  done \n",
      "group  21  done \n",
      "group  22  done \n",
      "group  23  done \n",
      "group  24  done \n",
      "group  25  done \n",
      "group  26  done \n",
      "group  27  done \n",
      "group  28  done \n",
      "group  29  done \n",
      "group  30  done \n",
      "group  31  done \n"
     ]
    }
   ],
   "source": [
    "family_nbr = train['family_id'].max()\n",
    "cols = ['onpromotion', 'oilprice', 'holiday', 'weekday', 'day', 'month', 'cluster', 'store_nbr']\n",
    "\n",
    "test['sales'] = 0\n",
    "\n",
    "\n",
    "for fam in range(family_nbr):\n",
    "    idx_train = train['family_id']== fam\n",
    "    idx_test = test['family_id']== fam\n",
    "    X_1 = train.loc[idx_train][cols].values\n",
    "    X_2 = test[idx_test][cols].values\n",
    "    Y = train.loc[idx_train]['sales'].values.ravel()\n",
    "      \n",
    "    X_1, X_2 = scale(X_1, X_2)\n",
    "    \n",
    "    model = CNN_Model(cols)\n",
    "    model.fit(X_1, Y, epochs=10, verbose=0)\n",
    "    pred = model.predict(X_2)\n",
    "\n",
    "    test.loc[idx_test,'sales'] = pred\n",
    "    print('group ', fam, ' done ')\n",
    "\n"
   ]
  },
  {
   "cell_type": "code",
   "execution_count": 12,
   "id": "4233b62b",
   "metadata": {
    "execution": {
     "iopub.execute_input": "2022-08-23T11:59:41.560755Z",
     "iopub.status.busy": "2022-08-23T11:59:41.559738Z",
     "iopub.status.idle": "2022-08-23T11:59:41.660324Z",
     "shell.execute_reply": "2022-08-23T11:59:41.659108Z"
    },
    "id": "Lj33xktf90kZ",
    "papermill": {
     "duration": 0.111467,
     "end_time": "2022-08-23T11:59:41.663012",
     "exception": false,
     "start_time": "2022-08-23T11:59:41.551545",
     "status": "completed"
    },
    "tags": []
   },
   "outputs": [
    {
     "data": {
      "text/html": [
       "<div>\n",
       "<style scoped>\n",
       "    .dataframe tbody tr th:only-of-type {\n",
       "        vertical-align: middle;\n",
       "    }\n",
       "\n",
       "    .dataframe tbody tr th {\n",
       "        vertical-align: top;\n",
       "    }\n",
       "\n",
       "    .dataframe thead th {\n",
       "        text-align: right;\n",
       "    }\n",
       "</style>\n",
       "<table border=\"1\" class=\"dataframe\">\n",
       "  <thead>\n",
       "    <tr style=\"text-align: right;\">\n",
       "      <th></th>\n",
       "      <th>id</th>\n",
       "      <th>sales</th>\n",
       "    </tr>\n",
       "  </thead>\n",
       "  <tbody>\n",
       "    <tr>\n",
       "      <th>0</th>\n",
       "      <td>3000888</td>\n",
       "      <td>4.062679</td>\n",
       "    </tr>\n",
       "    <tr>\n",
       "      <th>1</th>\n",
       "      <td>3000889</td>\n",
       "      <td>0.038156</td>\n",
       "    </tr>\n",
       "    <tr>\n",
       "      <th>2</th>\n",
       "      <td>3000890</td>\n",
       "      <td>5.920139</td>\n",
       "    </tr>\n",
       "    <tr>\n",
       "      <th>3</th>\n",
       "      <td>3000891</td>\n",
       "      <td>3246.311523</td>\n",
       "    </tr>\n",
       "    <tr>\n",
       "      <th>4</th>\n",
       "      <td>3000892</td>\n",
       "      <td>0.144904</td>\n",
       "    </tr>\n",
       "    <tr>\n",
       "      <th>...</th>\n",
       "      <td>...</td>\n",
       "      <td>...</td>\n",
       "    </tr>\n",
       "    <tr>\n",
       "      <th>28507</th>\n",
       "      <td>3029395</td>\n",
       "      <td>233.264191</td>\n",
       "    </tr>\n",
       "    <tr>\n",
       "      <th>28508</th>\n",
       "      <td>3029396</td>\n",
       "      <td>112.080444</td>\n",
       "    </tr>\n",
       "    <tr>\n",
       "      <th>28509</th>\n",
       "      <td>3029397</td>\n",
       "      <td>794.773376</td>\n",
       "    </tr>\n",
       "    <tr>\n",
       "      <th>28510</th>\n",
       "      <td>3029398</td>\n",
       "      <td>52.331882</td>\n",
       "    </tr>\n",
       "    <tr>\n",
       "      <th>28511</th>\n",
       "      <td>3029399</td>\n",
       "      <td>0.000000</td>\n",
       "    </tr>\n",
       "  </tbody>\n",
       "</table>\n",
       "<p>28512 rows × 2 columns</p>\n",
       "</div>"
      ],
      "text/plain": [
       "            id        sales\n",
       "0      3000888     4.062679\n",
       "1      3000889     0.038156\n",
       "2      3000890     5.920139\n",
       "3      3000891  3246.311523\n",
       "4      3000892     0.144904\n",
       "...        ...          ...\n",
       "28507  3029395   233.264191\n",
       "28508  3029396   112.080444\n",
       "28509  3029397   794.773376\n",
       "28510  3029398    52.331882\n",
       "28511  3029399     0.000000\n",
       "\n",
       "[28512 rows x 2 columns]"
      ]
     },
     "execution_count": 12,
     "metadata": {},
     "output_type": "execute_result"
    }
   ],
   "source": [
    "test[['id', 'sales']].to_csv('submission.csv',index = False)\n",
    "\n",
    "submission = pd.read_csv('./submission.csv')\n",
    "submission"
   ]
  }
 ],
 "metadata": {
  "kernelspec": {
   "display_name": "Python 3",
   "language": "python",
   "name": "python3"
  },
  "language_info": {
   "codemirror_mode": {
    "name": "ipython",
    "version": 3
   },
   "file_extension": ".py",
   "mimetype": "text/x-python",
   "name": "python",
   "nbconvert_exporter": "python",
   "pygments_lexer": "ipython3",
   "version": "3.7.12"
  },
  "papermill": {
   "default_parameters": {},
   "duration": 1098.831575,
   "end_time": "2022-08-23T11:59:45.089220",
   "environment_variables": {},
   "exception": null,
   "input_path": "__notebook__.ipynb",
   "output_path": "__notebook__.ipynb",
   "parameters": {},
   "start_time": "2022-08-23T11:41:26.257645",
   "version": "2.3.4"
  }
 },
 "nbformat": 4,
 "nbformat_minor": 5
}
