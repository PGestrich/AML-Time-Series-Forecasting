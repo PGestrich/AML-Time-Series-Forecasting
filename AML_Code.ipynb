{
  "cells": [
    {
      "cell_type": "markdown",
      "metadata": {
        "id": "view-in-github",
        "colab_type": "text"
      },
      "source": [
        "<a href=\"https://colab.research.google.com/github/PGestrich/AML-Time-Series-Forecasting/blob/main/AML_Code.ipynb\" target=\"_parent\"><img src=\"https://colab.research.google.com/assets/colab-badge.svg\" alt=\"Open In Colab\"/></a>"
      ]
    },
    {
      "cell_type": "markdown",
      "metadata": {
        "id": "NCuQyjbeCCT8"
      },
      "source": [
        "# AML Project - Time Series Forecasting\n",
        "\n",
        "Julian Nürk, \n",
        "\n",
        "Prisca Gestrich"
      ]
    },
    {
      "cell_type": "markdown",
      "metadata": {
        "id": "z9QuDMrsIomH"
      },
      "source": [
        "## Data Stuff"
      ]
    },
    {
      "cell_type": "markdown",
      "metadata": {
        "id": "tOsH5XzxCRAb"
      },
      "source": [
        "### 1. Utility / Loading Data"
      ]
    },
    {
      "cell_type": "code",
      "execution_count": 1,
      "metadata": {
        "id": "IY2OImMBATqc"
      },
      "outputs": [],
      "source": [
        "#general\n",
        "import numpy as np\n",
        "import pandas as pd\n",
        "!pip install -q kaggle\n",
        "\n",
        "\n",
        "from google.colab import files"
      ]
    },
    {
      "cell_type": "code",
      "execution_count": 2,
      "metadata": {
        "colab": {
          "base_uri": "https://localhost:8080/",
          "height": 271,
          "resources": {
            "http://localhost:8080/nbextensions/google.colab/files.js": {
              "data": "Ly8gQ29weXJpZ2h0IDIwMTcgR29vZ2xlIExMQwovLwovLyBMaWNlbnNlZCB1bmRlciB0aGUgQXBhY2hlIExpY2Vuc2UsIFZlcnNpb24gMi4wICh0aGUgIkxpY2Vuc2UiKTsKLy8geW91IG1heSBub3QgdXNlIHRoaXMgZmlsZSBleGNlcHQgaW4gY29tcGxpYW5jZSB3aXRoIHRoZSBMaWNlbnNlLgovLyBZb3UgbWF5IG9idGFpbiBhIGNvcHkgb2YgdGhlIExpY2Vuc2UgYXQKLy8KLy8gICAgICBodHRwOi8vd3d3LmFwYWNoZS5vcmcvbGljZW5zZXMvTElDRU5TRS0yLjAKLy8KLy8gVW5sZXNzIHJlcXVpcmVkIGJ5IGFwcGxpY2FibGUgbGF3IG9yIGFncmVlZCB0byBpbiB3cml0aW5nLCBzb2Z0d2FyZQovLyBkaXN0cmlidXRlZCB1bmRlciB0aGUgTGljZW5zZSBpcyBkaXN0cmlidXRlZCBvbiBhbiAiQVMgSVMiIEJBU0lTLAovLyBXSVRIT1VUIFdBUlJBTlRJRVMgT1IgQ09ORElUSU9OUyBPRiBBTlkgS0lORCwgZWl0aGVyIGV4cHJlc3Mgb3IgaW1wbGllZC4KLy8gU2VlIHRoZSBMaWNlbnNlIGZvciB0aGUgc3BlY2lmaWMgbGFuZ3VhZ2UgZ292ZXJuaW5nIHBlcm1pc3Npb25zIGFuZAovLyBsaW1pdGF0aW9ucyB1bmRlciB0aGUgTGljZW5zZS4KCi8qKgogKiBAZmlsZW92ZXJ2aWV3IEhlbHBlcnMgZm9yIGdvb2dsZS5jb2xhYiBQeXRob24gbW9kdWxlLgogKi8KKGZ1bmN0aW9uKHNjb3BlKSB7CmZ1bmN0aW9uIHNwYW4odGV4dCwgc3R5bGVBdHRyaWJ1dGVzID0ge30pIHsKICBjb25zdCBlbGVtZW50ID0gZG9jdW1lbnQuY3JlYXRlRWxlbWVudCgnc3BhbicpOwogIGVsZW1lbnQudGV4dENvbnRlbnQgPSB0ZXh0OwogIGZvciAoY29uc3Qga2V5IG9mIE9iamVjdC5rZXlzKHN0eWxlQXR0cmlidXRlcykpIHsKICAgIGVsZW1lbnQuc3R5bGVba2V5XSA9IHN0eWxlQXR0cmlidXRlc1trZXldOwogIH0KICByZXR1cm4gZWxlbWVudDsKfQoKLy8gTWF4IG51bWJlciBvZiBieXRlcyB3aGljaCB3aWxsIGJlIHVwbG9hZGVkIGF0IGEgdGltZS4KY29uc3QgTUFYX1BBWUxPQURfU0laRSA9IDEwMCAqIDEwMjQ7CgpmdW5jdGlvbiBfdXBsb2FkRmlsZXMoaW5wdXRJZCwgb3V0cHV0SWQpIHsKICBjb25zdCBzdGVwcyA9IHVwbG9hZEZpbGVzU3RlcChpbnB1dElkLCBvdXRwdXRJZCk7CiAgY29uc3Qgb3V0cHV0RWxlbWVudCA9IGRvY3VtZW50LmdldEVsZW1lbnRCeUlkKG91dHB1dElkKTsKICAvLyBDYWNoZSBzdGVwcyBvbiB0aGUgb3V0cHV0RWxlbWVudCB0byBtYWtlIGl0IGF2YWlsYWJsZSBmb3IgdGhlIG5leHQgY2FsbAogIC8vIHRvIHVwbG9hZEZpbGVzQ29udGludWUgZnJvbSBQeXRob24uCiAgb3V0cHV0RWxlbWVudC5zdGVwcyA9IHN0ZXBzOwoKICByZXR1cm4gX3VwbG9hZEZpbGVzQ29udGludWUob3V0cHV0SWQpOwp9CgovLyBUaGlzIGlzIHJvdWdobHkgYW4gYXN5bmMgZ2VuZXJhdG9yIChub3Qgc3VwcG9ydGVkIGluIHRoZSBicm93c2VyIHlldCksCi8vIHdoZXJlIHRoZXJlIGFyZSBtdWx0aXBsZSBhc3luY2hyb25vdXMgc3RlcHMgYW5kIHRoZSBQeXRob24gc2lkZSBpcyBnb2luZwovLyB0byBwb2xsIGZvciBjb21wbGV0aW9uIG9mIGVhY2ggc3RlcC4KLy8gVGhpcyB1c2VzIGEgUHJvbWlzZSB0byBibG9jayB0aGUgcHl0aG9uIHNpZGUgb24gY29tcGxldGlvbiBvZiBlYWNoIHN0ZXAsCi8vIHRoZW4gcGFzc2VzIHRoZSByZXN1bHQgb2YgdGhlIHByZXZpb3VzIHN0ZXAgYXMgdGhlIGlucHV0IHRvIHRoZSBuZXh0IHN0ZXAuCmZ1bmN0aW9uIF91cGxvYWRGaWxlc0NvbnRpbnVlKG91dHB1dElkKSB7CiAgY29uc3Qgb3V0cHV0RWxlbWVudCA9IGRvY3VtZW50LmdldEVsZW1lbnRCeUlkKG91dHB1dElkKTsKICBjb25zdCBzdGVwcyA9IG91dHB1dEVsZW1lbnQuc3RlcHM7CgogIGNvbnN0IG5leHQgPSBzdGVwcy5uZXh0KG91dHB1dEVsZW1lbnQubGFzdFByb21pc2VWYWx1ZSk7CiAgcmV0dXJuIFByb21pc2UucmVzb2x2ZShuZXh0LnZhbHVlLnByb21pc2UpLnRoZW4oKHZhbHVlKSA9PiB7CiAgICAvLyBDYWNoZSB0aGUgbGFzdCBwcm9taXNlIHZhbHVlIHRvIG1ha2UgaXQgYXZhaWxhYmxlIHRvIHRoZSBuZXh0CiAgICAvLyBzdGVwIG9mIHRoZSBnZW5lcmF0b3IuCiAgICBvdXRwdXRFbGVtZW50Lmxhc3RQcm9taXNlVmFsdWUgPSB2YWx1ZTsKICAgIHJldHVybiBuZXh0LnZhbHVlLnJlc3BvbnNlOwogIH0pOwp9CgovKioKICogR2VuZXJhdG9yIGZ1bmN0aW9uIHdoaWNoIGlzIGNhbGxlZCBiZXR3ZWVuIGVhY2ggYXN5bmMgc3RlcCBvZiB0aGUgdXBsb2FkCiAqIHByb2Nlc3MuCiAqIEBwYXJhbSB7c3RyaW5nfSBpbnB1dElkIEVsZW1lbnQgSUQgb2YgdGhlIGlucHV0IGZpbGUgcGlja2VyIGVsZW1lbnQuCiAqIEBwYXJhbSB7c3RyaW5nfSBvdXRwdXRJZCBFbGVtZW50IElEIG9mIHRoZSBvdXRwdXQgZGlzcGxheS4KICogQHJldHVybiB7IUl0ZXJhYmxlPCFPYmplY3Q+fSBJdGVyYWJsZSBvZiBuZXh0IHN0ZXBzLgogKi8KZnVuY3Rpb24qIHVwbG9hZEZpbGVzU3RlcChpbnB1dElkLCBvdXRwdXRJZCkgewogIGNvbnN0IGlucHV0RWxlbWVudCA9IGRvY3VtZW50LmdldEVsZW1lbnRCeUlkKGlucHV0SWQpOwogIGlucHV0RWxlbWVudC5kaXNhYmxlZCA9IGZhbHNlOwoKICBjb25zdCBvdXRwdXRFbGVtZW50ID0gZG9jdW1lbnQuZ2V0RWxlbWVudEJ5SWQob3V0cHV0SWQpOwogIG91dHB1dEVsZW1lbnQuaW5uZXJIVE1MID0gJyc7CgogIGNvbnN0IHBpY2tlZFByb21pc2UgPSBuZXcgUHJvbWlzZSgocmVzb2x2ZSkgPT4gewogICAgaW5wdXRFbGVtZW50LmFkZEV2ZW50TGlzdGVuZXIoJ2NoYW5nZScsIChlKSA9PiB7CiAgICAgIHJlc29sdmUoZS50YXJnZXQuZmlsZXMpOwogICAgfSk7CiAgfSk7CgogIGNvbnN0IGNhbmNlbCA9IGRvY3VtZW50LmNyZWF0ZUVsZW1lbnQoJ2J1dHRvbicpOwogIGlucHV0RWxlbWVudC5wYXJlbnRFbGVtZW50LmFwcGVuZENoaWxkKGNhbmNlbCk7CiAgY2FuY2VsLnRleHRDb250ZW50ID0gJ0NhbmNlbCB1cGxvYWQnOwogIGNvbnN0IGNhbmNlbFByb21pc2UgPSBuZXcgUHJvbWlzZSgocmVzb2x2ZSkgPT4gewogICAgY2FuY2VsLm9uY2xpY2sgPSAoKSA9PiB7CiAgICAgIHJlc29sdmUobnVsbCk7CiAgICB9OwogIH0pOwoKICAvLyBXYWl0IGZvciB0aGUgdXNlciB0byBwaWNrIHRoZSBmaWxlcy4KICBjb25zdCBmaWxlcyA9IHlpZWxkIHsKICAgIHByb21pc2U6IFByb21pc2UucmFjZShbcGlja2VkUHJvbWlzZSwgY2FuY2VsUHJvbWlzZV0pLAogICAgcmVzcG9uc2U6IHsKICAgICAgYWN0aW9uOiAnc3RhcnRpbmcnLAogICAgfQogIH07CgogIGNhbmNlbC5yZW1vdmUoKTsKCiAgLy8gRGlzYWJsZSB0aGUgaW5wdXQgZWxlbWVudCBzaW5jZSBmdXJ0aGVyIHBpY2tzIGFyZSBub3QgYWxsb3dlZC4KICBpbnB1dEVsZW1lbnQuZGlzYWJsZWQgPSB0cnVlOwoKICBpZiAoIWZpbGVzKSB7CiAgICByZXR1cm4gewogICAgICByZXNwb25zZTogewogICAgICAgIGFjdGlvbjogJ2NvbXBsZXRlJywKICAgICAgfQogICAgfTsKICB9CgogIGZvciAoY29uc3QgZmlsZSBvZiBmaWxlcykgewogICAgY29uc3QgbGkgPSBkb2N1bWVudC5jcmVhdGVFbGVtZW50KCdsaScpOwogICAgbGkuYXBwZW5kKHNwYW4oZmlsZS5uYW1lLCB7Zm9udFdlaWdodDogJ2JvbGQnfSkpOwogICAgbGkuYXBwZW5kKHNwYW4oCiAgICAgICAgYCgke2ZpbGUudHlwZSB8fCAnbi9hJ30pIC0gJHtmaWxlLnNpemV9IGJ5dGVzLCBgICsKICAgICAgICBgbGFzdCBtb2RpZmllZDogJHsKICAgICAgICAgICAgZmlsZS5sYXN0TW9kaWZpZWREYXRlID8gZmlsZS5sYXN0TW9kaWZpZWREYXRlLnRvTG9jYWxlRGF0ZVN0cmluZygpIDoKICAgICAgICAgICAgICAgICAgICAgICAgICAgICAgICAgICAgJ24vYSd9IC0gYCkpOwogICAgY29uc3QgcGVyY2VudCA9IHNwYW4oJzAlIGRvbmUnKTsKICAgIGxpLmFwcGVuZENoaWxkKHBlcmNlbnQpOwoKICAgIG91dHB1dEVsZW1lbnQuYXBwZW5kQ2hpbGQobGkpOwoKICAgIGNvbnN0IGZpbGVEYXRhUHJvbWlzZSA9IG5ldyBQcm9taXNlKChyZXNvbHZlKSA9PiB7CiAgICAgIGNvbnN0IHJlYWRlciA9IG5ldyBGaWxlUmVhZGVyKCk7CiAgICAgIHJlYWRlci5vbmxvYWQgPSAoZSkgPT4gewogICAgICAgIHJlc29sdmUoZS50YXJnZXQucmVzdWx0KTsKICAgICAgfTsKICAgICAgcmVhZGVyLnJlYWRBc0FycmF5QnVmZmVyKGZpbGUpOwogICAgfSk7CiAgICAvLyBXYWl0IGZvciB0aGUgZGF0YSB0byBiZSByZWFkeS4KICAgIGxldCBmaWxlRGF0YSA9IHlpZWxkIHsKICAgICAgcHJvbWlzZTogZmlsZURhdGFQcm9taXNlLAogICAgICByZXNwb25zZTogewogICAgICAgIGFjdGlvbjogJ2NvbnRpbnVlJywKICAgICAgfQogICAgfTsKCiAgICAvLyBVc2UgYSBjaHVua2VkIHNlbmRpbmcgdG8gYXZvaWQgbWVzc2FnZSBzaXplIGxpbWl0cy4gU2VlIGIvNjIxMTU2NjAuCiAgICBsZXQgcG9zaXRpb24gPSAwOwogICAgZG8gewogICAgICBjb25zdCBsZW5ndGggPSBNYXRoLm1pbihmaWxlRGF0YS5ieXRlTGVuZ3RoIC0gcG9zaXRpb24sIE1BWF9QQVlMT0FEX1NJWkUpOwogICAgICBjb25zdCBjaHVuayA9IG5ldyBVaW50OEFycmF5KGZpbGVEYXRhLCBwb3NpdGlvbiwgbGVuZ3RoKTsKICAgICAgcG9zaXRpb24gKz0gbGVuZ3RoOwoKICAgICAgY29uc3QgYmFzZTY0ID0gYnRvYShTdHJpbmcuZnJvbUNoYXJDb2RlLmFwcGx5KG51bGwsIGNodW5rKSk7CiAgICAgIHlpZWxkIHsKICAgICAgICByZXNwb25zZTogewogICAgICAgICAgYWN0aW9uOiAnYXBwZW5kJywKICAgICAgICAgIGZpbGU6IGZpbGUubmFtZSwKICAgICAgICAgIGRhdGE6IGJhc2U2NCwKICAgICAgICB9LAogICAgICB9OwoKICAgICAgbGV0IHBlcmNlbnREb25lID0gZmlsZURhdGEuYnl0ZUxlbmd0aCA9PT0gMCA/CiAgICAgICAgICAxMDAgOgogICAgICAgICAgTWF0aC5yb3VuZCgocG9zaXRpb24gLyBmaWxlRGF0YS5ieXRlTGVuZ3RoKSAqIDEwMCk7CiAgICAgIHBlcmNlbnQudGV4dENvbnRlbnQgPSBgJHtwZXJjZW50RG9uZX0lIGRvbmVgOwoKICAgIH0gd2hpbGUgKHBvc2l0aW9uIDwgZmlsZURhdGEuYnl0ZUxlbmd0aCk7CiAgfQoKICAvLyBBbGwgZG9uZS4KICB5aWVsZCB7CiAgICByZXNwb25zZTogewogICAgICBhY3Rpb246ICdjb21wbGV0ZScsCiAgICB9CiAgfTsKfQoKc2NvcGUuZ29vZ2xlID0gc2NvcGUuZ29vZ2xlIHx8IHt9OwpzY29wZS5nb29nbGUuY29sYWIgPSBzY29wZS5nb29nbGUuY29sYWIgfHwge307CnNjb3BlLmdvb2dsZS5jb2xhYi5fZmlsZXMgPSB7CiAgX3VwbG9hZEZpbGVzLAogIF91cGxvYWRGaWxlc0NvbnRpbnVlLAp9Owp9KShzZWxmKTsK",
              "headers": [
                [
                  "content-type",
                  "application/javascript"
                ]
              ],
              "ok": true,
              "status": 200,
              "status_text": "OK"
            }
          }
        },
        "id": "lTXU2d5tDuCJ",
        "outputId": "2f6a265d-8279-484e-ed3d-80325471ad5e"
      },
      "outputs": [
        {
          "output_type": "display_data",
          "data": {
            "text/plain": [
              "<IPython.core.display.HTML object>"
            ],
            "text/html": [
              "\n",
              "     <input type=\"file\" id=\"files-818aa318-0d15-4bec-8a65-ae2d5edd02f2\" name=\"files[]\" multiple disabled\n",
              "        style=\"border:none\" />\n",
              "     <output id=\"result-818aa318-0d15-4bec-8a65-ae2d5edd02f2\">\n",
              "      Upload widget is only available when the cell has been executed in the\n",
              "      current browser session. Please rerun this cell to enable.\n",
              "      </output>\n",
              "      <script src=\"/nbextensions/google.colab/files.js\"></script> "
            ]
          },
          "metadata": {}
        },
        {
          "output_type": "stream",
          "name": "stdout",
          "text": [
            "Saving kaggle.json to kaggle.json\n",
            "Downloading store-sales-time-series-forecasting.zip to /content\n",
            " 23% 5.00M/21.4M [00:00<00:00, 42.7MB/s]\n",
            "100% 21.4M/21.4M [00:00<00:00, 123MB/s] \n",
            "Archive:  store-sales-time-series-forecasting.zip\n",
            "  inflating: data/holidays_events.csv  \n",
            "  inflating: data/oil.csv            \n",
            "  inflating: data/sample_submission.csv  \n",
            "  inflating: data/stores.csv         \n",
            "  inflating: data/test.csv           \n",
            "  inflating: data/train.csv          \n",
            "  inflating: data/transactions.csv   \n"
          ]
        }
      ],
      "source": [
        "files.upload()\n",
        "! mkdir ~/.kaggle \n",
        "! cp kaggle.json ~/.kaggle/\n",
        "! chmod 600 ~/.kaggle/kaggle.json\n",
        "\n",
        "! kaggle competitions download -c 'store-sales-time-series-forecasting'\n",
        "! mkdir data\n",
        "! unzip store-sales-time-series-forecasting.zip -d data"
      ]
    },
    {
      "cell_type": "code",
      "execution_count": 3,
      "metadata": {
        "id": "Sc98a1pR_BgU"
      },
      "outputs": [],
      "source": [
        "oil = pd.read_csv('/content/data/oil.csv')\n",
        "holidays = pd.read_csv('/content/data/holidays_events.csv')\n",
        "stores = pd.read_csv('/content/data/stores.csv')\n",
        "train = pd.read_csv('/content/data/train.csv')\n",
        "transactions = pd.read_csv('/content/data/transactions.csv')\n",
        "test = pd.read_csv('/content/data/test.csv')\n",
        "\n"
      ]
    },
    {
      "cell_type": "markdown",
      "metadata": {
        "id": "wA5KLqjiH573"
      },
      "source": [
        "## Process Data\n",
        "\n",
        "holiday handling:\n",
        "\n",
        "0: work day\n",
        "\n",
        "1 - weekend / bridge day\n",
        "\n",
        "2 - holiday\n",
        "\n",
        "type additional: ??? \n",
        "\n",
        "transferred holidays are considered normal days\n",
        "\n",
        "only first holiday in holidays is considered\n",
        "\n",
        "\n"
      ]
    },
    {
      "cell_type": "code",
      "execution_count": 4,
      "metadata": {
        "id": "CLUJ2Y21QSIp"
      },
      "outputs": [],
      "source": [
        "#change dtype of date column to datetime\n",
        "oil['date'] = oil['date'].apply(pd.to_datetime)\n",
        "holidays['date'] = holidays['date'].apply(pd.to_datetime)\n",
        "train['date']=pd.to_datetime(train ['date'])\n",
        "#train['date'] = train['date'].apply(pd.to_datetime)\n",
        "transactions['date'] = transactions['date'].apply(pd.to_datetime)\n",
        "test['date'] = test['date'].apply(pd.to_datetime)"
      ]
    },
    {
      "cell_type": "code",
      "execution_count": 5,
      "metadata": {
        "id": "gKsNO8SaglS2"
      },
      "outputs": [],
      "source": [
        "#expand oil to include all dates + interpolate missing data\n",
        "oil = oil.set_index('date').asfreq('D').reset_index()\n",
        "oil['dcoilwtico'] = oil['dcoilwtico'].interpolate('linear').ffill().bfill()\n",
        "train = train.merge(oil)\n",
        "train = train.rename(columns={\"dcoilwtico\": \"oilprice\"})\n",
        "\n",
        "\n",
        "#change family names & type to numeric values\n",
        "encoder_family = LabelEncoder()\n",
        "train['family_id']=encoder_family.fit_transform(train['family'])\n",
        "\n",
        "\n",
        "\n",
        "#split up date into multiple informations\n",
        "train['day'] = train['date'].apply(lambda time: time.day)\n",
        "train['month'] = train['date'].apply(lambda time: time.month)\n",
        "train['weekday'] = train['date'].apply(lambda time: time.dayofweek)\n",
        "train['year'] = train['date'].apply(lambda time: time.year)\n",
        "\n",
        "#remove noise - 3 months\n",
        "to_drop = train.loc[train['date'].between('2016-04-16', '2016-07-16')]\n",
        "train = train.drop(to_drop.index)"
      ]
    },
    {
      "cell_type": "markdown",
      "metadata": {
        "id": "hmChoGmCn7-b"
      },
      "source": [
        "prob. faster: do holiday lookup table with clusters instead of store numbers"
      ]
    },
    {
      "cell_type": "code",
      "execution_count": 6,
      "metadata": {
        "id": "a5FWlqQagF-j"
      },
      "outputs": [],
      "source": [
        "#holiday handling\n",
        "def isholiday(row):\n",
        "  #data\n",
        "  date = row['date']\n",
        "  event = holidays.loc[holidays['date'] == date][0:1]\n",
        "  id = row['store_nbr']\n",
        "  city = stores.loc[stores['store_nbr'] == id]['city'].values\n",
        "  state = stores.loc[stores['store_nbr'] == id]['state'].values\n",
        "  \n",
        "  \n",
        "  #check if events apply:\n",
        "  if len(event) > 0:\n",
        "    national = event['locale'].values == 'National'\n",
        "    regional = event['locale'].values == 'Regional' and event['locale_name'].values == state\n",
        "    local = event['locale'].values == 'Local' and event['locale_name'].values == city\n",
        "    \n",
        "    if national[0] or regional[0] or local[0]:\n",
        "      if event['type'].values == 'Holiday' and  event['transferred'].values == False:\n",
        "        return 2\n",
        "      elif event['type'].values == 'Transfer':\n",
        "        return 2\n",
        "      elif event['type'].values == 'Bridge':\n",
        "        return 1\n",
        "      elif event['type'].values == 'Work Day':\n",
        "        return 0\n",
        "\n",
        "  #otherwise: check if weekend\n",
        "  if row['weekday']< 5:\n",
        "    return 0\n",
        "  else: \n",
        "    return 1\n",
        "\n",
        "\n",
        "#lookup table  (adds dates to stores table and gets holiday type)\n",
        "date1, date2 = train['date'].min(), train['date'].max()\n",
        "holiday_lookup = stores[['store_nbr', 'type', 'cluster']].copy()\n",
        "holiday_lookup.loc[:,'holiday'] = 0\n",
        "\n",
        "holiday_lookup = pd.merge(holiday_lookup, pd.DataFrame({'date': pd.date_range(date1, date2, freq = 'd')}), how = \"cross\")\n",
        "holiday_lookup['weekday'] = holiday_lookup['date'].apply(lambda time: time.dayofweek)\n",
        "holiday_lookup.loc[:, 'holiday'] = holiday_lookup.apply(lambda row: isholiday(row), axis = 1)\n",
        "holiday_lookup = holiday_lookup.drop('weekday', axis = 1)\n",
        "\n",
        "\n",
        "#join with train\n",
        "train = train.merge(holiday_lookup)\n",
        "\n",
        "encoder_type = LabelEncoder()\n",
        "train['type']=encoder_type.fit_transform(train['type'])"
      ]
    },
    {
      "cell_type": "code",
      "execution_count": 7,
      "metadata": {
        "colab": {
          "base_uri": "https://localhost:8080/",
          "height": 424
        },
        "id": "ufzQ7LCpQKE0",
        "outputId": "464f39fa-5e06-402a-99fe-e6ffcca9fb7d"
      },
      "outputs": [
        {
          "output_type": "execute_result",
          "data": {
            "text/plain": [
              "        id       date  store_nbr                      family    sales  \\\n",
              "0        0 2013-01-01          1                  AUTOMOTIVE    0.000   \n",
              "1        1 2013-01-01          1                   BABY CARE    0.000   \n",
              "2        2 2013-01-01          1                      BEAUTY    0.000   \n",
              "3        3 2013-01-01          1                   BEVERAGES    0.000   \n",
              "4        4 2013-01-01          1                       BOOKS    0.000   \n",
              "...    ...        ...        ...                         ...      ...   \n",
              "5341  5341 2013-01-03          9                     POULTRY  509.496   \n",
              "5342  5342 2013-01-03          9              PREPARED FOODS   66.000   \n",
              "5343  5343 2013-01-03          9                     PRODUCE    0.000   \n",
              "5344  5344 2013-01-03          9  SCHOOL AND OFFICE SUPPLIES    0.000   \n",
              "5345  5345 2013-01-03          9                     SEAFOOD   25.000   \n",
              "\n",
              "      onpromotion  oilprice  family_id  day  month  weekday  year type  \\\n",
              "0               0     93.14          0    1      1        1  2013    D   \n",
              "1               0     93.14          1    1      1        1  2013    D   \n",
              "2               0     93.14          2    1      1        1  2013    D   \n",
              "3               0     93.14          3    1      1        1  2013    D   \n",
              "4               0     93.14          4    1      1        1  2013    D   \n",
              "...           ...       ...        ...  ...    ...      ...   ...  ...   \n",
              "5341            0     92.97         28    3      1        3  2013    B   \n",
              "5342            0     92.97         29    3      1        3  2013    B   \n",
              "5343            0     92.97         30    3      1        3  2013    B   \n",
              "5344            0     92.97         31    3      1        3  2013    B   \n",
              "5345            0     92.97         32    3      1        3  2013    B   \n",
              "\n",
              "      cluster  holiday  \n",
              "0          13        2  \n",
              "1          13        2  \n",
              "2          13        2  \n",
              "3          13        2  \n",
              "4          13        2  \n",
              "...       ...      ...  \n",
              "5341        6        0  \n",
              "5342        6        0  \n",
              "5343        6        0  \n",
              "5344        6        0  \n",
              "5345        6        0  \n",
              "\n",
              "[5346 rows x 15 columns]"
            ],
            "text/html": [
              "\n",
              "  <div id=\"df-2497dfad-16e0-4d7c-a806-4cb64380e2b8\">\n",
              "    <div class=\"colab-df-container\">\n",
              "      <div>\n",
              "<style scoped>\n",
              "    .dataframe tbody tr th:only-of-type {\n",
              "        vertical-align: middle;\n",
              "    }\n",
              "\n",
              "    .dataframe tbody tr th {\n",
              "        vertical-align: top;\n",
              "    }\n",
              "\n",
              "    .dataframe thead th {\n",
              "        text-align: right;\n",
              "    }\n",
              "</style>\n",
              "<table border=\"1\" class=\"dataframe\">\n",
              "  <thead>\n",
              "    <tr style=\"text-align: right;\">\n",
              "      <th></th>\n",
              "      <th>id</th>\n",
              "      <th>date</th>\n",
              "      <th>store_nbr</th>\n",
              "      <th>family</th>\n",
              "      <th>sales</th>\n",
              "      <th>onpromotion</th>\n",
              "      <th>oilprice</th>\n",
              "      <th>family_id</th>\n",
              "      <th>day</th>\n",
              "      <th>month</th>\n",
              "      <th>weekday</th>\n",
              "      <th>year</th>\n",
              "      <th>type</th>\n",
              "      <th>cluster</th>\n",
              "      <th>holiday</th>\n",
              "    </tr>\n",
              "  </thead>\n",
              "  <tbody>\n",
              "    <tr>\n",
              "      <th>0</th>\n",
              "      <td>0</td>\n",
              "      <td>2013-01-01</td>\n",
              "      <td>1</td>\n",
              "      <td>AUTOMOTIVE</td>\n",
              "      <td>0.000</td>\n",
              "      <td>0</td>\n",
              "      <td>93.14</td>\n",
              "      <td>0</td>\n",
              "      <td>1</td>\n",
              "      <td>1</td>\n",
              "      <td>1</td>\n",
              "      <td>2013</td>\n",
              "      <td>D</td>\n",
              "      <td>13</td>\n",
              "      <td>2</td>\n",
              "    </tr>\n",
              "    <tr>\n",
              "      <th>1</th>\n",
              "      <td>1</td>\n",
              "      <td>2013-01-01</td>\n",
              "      <td>1</td>\n",
              "      <td>BABY CARE</td>\n",
              "      <td>0.000</td>\n",
              "      <td>0</td>\n",
              "      <td>93.14</td>\n",
              "      <td>1</td>\n",
              "      <td>1</td>\n",
              "      <td>1</td>\n",
              "      <td>1</td>\n",
              "      <td>2013</td>\n",
              "      <td>D</td>\n",
              "      <td>13</td>\n",
              "      <td>2</td>\n",
              "    </tr>\n",
              "    <tr>\n",
              "      <th>2</th>\n",
              "      <td>2</td>\n",
              "      <td>2013-01-01</td>\n",
              "      <td>1</td>\n",
              "      <td>BEAUTY</td>\n",
              "      <td>0.000</td>\n",
              "      <td>0</td>\n",
              "      <td>93.14</td>\n",
              "      <td>2</td>\n",
              "      <td>1</td>\n",
              "      <td>1</td>\n",
              "      <td>1</td>\n",
              "      <td>2013</td>\n",
              "      <td>D</td>\n",
              "      <td>13</td>\n",
              "      <td>2</td>\n",
              "    </tr>\n",
              "    <tr>\n",
              "      <th>3</th>\n",
              "      <td>3</td>\n",
              "      <td>2013-01-01</td>\n",
              "      <td>1</td>\n",
              "      <td>BEVERAGES</td>\n",
              "      <td>0.000</td>\n",
              "      <td>0</td>\n",
              "      <td>93.14</td>\n",
              "      <td>3</td>\n",
              "      <td>1</td>\n",
              "      <td>1</td>\n",
              "      <td>1</td>\n",
              "      <td>2013</td>\n",
              "      <td>D</td>\n",
              "      <td>13</td>\n",
              "      <td>2</td>\n",
              "    </tr>\n",
              "    <tr>\n",
              "      <th>4</th>\n",
              "      <td>4</td>\n",
              "      <td>2013-01-01</td>\n",
              "      <td>1</td>\n",
              "      <td>BOOKS</td>\n",
              "      <td>0.000</td>\n",
              "      <td>0</td>\n",
              "      <td>93.14</td>\n",
              "      <td>4</td>\n",
              "      <td>1</td>\n",
              "      <td>1</td>\n",
              "      <td>1</td>\n",
              "      <td>2013</td>\n",
              "      <td>D</td>\n",
              "      <td>13</td>\n",
              "      <td>2</td>\n",
              "    </tr>\n",
              "    <tr>\n",
              "      <th>...</th>\n",
              "      <td>...</td>\n",
              "      <td>...</td>\n",
              "      <td>...</td>\n",
              "      <td>...</td>\n",
              "      <td>...</td>\n",
              "      <td>...</td>\n",
              "      <td>...</td>\n",
              "      <td>...</td>\n",
              "      <td>...</td>\n",
              "      <td>...</td>\n",
              "      <td>...</td>\n",
              "      <td>...</td>\n",
              "      <td>...</td>\n",
              "      <td>...</td>\n",
              "      <td>...</td>\n",
              "    </tr>\n",
              "    <tr>\n",
              "      <th>5341</th>\n",
              "      <td>5341</td>\n",
              "      <td>2013-01-03</td>\n",
              "      <td>9</td>\n",
              "      <td>POULTRY</td>\n",
              "      <td>509.496</td>\n",
              "      <td>0</td>\n",
              "      <td>92.97</td>\n",
              "      <td>28</td>\n",
              "      <td>3</td>\n",
              "      <td>1</td>\n",
              "      <td>3</td>\n",
              "      <td>2013</td>\n",
              "      <td>B</td>\n",
              "      <td>6</td>\n",
              "      <td>0</td>\n",
              "    </tr>\n",
              "    <tr>\n",
              "      <th>5342</th>\n",
              "      <td>5342</td>\n",
              "      <td>2013-01-03</td>\n",
              "      <td>9</td>\n",
              "      <td>PREPARED FOODS</td>\n",
              "      <td>66.000</td>\n",
              "      <td>0</td>\n",
              "      <td>92.97</td>\n",
              "      <td>29</td>\n",
              "      <td>3</td>\n",
              "      <td>1</td>\n",
              "      <td>3</td>\n",
              "      <td>2013</td>\n",
              "      <td>B</td>\n",
              "      <td>6</td>\n",
              "      <td>0</td>\n",
              "    </tr>\n",
              "    <tr>\n",
              "      <th>5343</th>\n",
              "      <td>5343</td>\n",
              "      <td>2013-01-03</td>\n",
              "      <td>9</td>\n",
              "      <td>PRODUCE</td>\n",
              "      <td>0.000</td>\n",
              "      <td>0</td>\n",
              "      <td>92.97</td>\n",
              "      <td>30</td>\n",
              "      <td>3</td>\n",
              "      <td>1</td>\n",
              "      <td>3</td>\n",
              "      <td>2013</td>\n",
              "      <td>B</td>\n",
              "      <td>6</td>\n",
              "      <td>0</td>\n",
              "    </tr>\n",
              "    <tr>\n",
              "      <th>5344</th>\n",
              "      <td>5344</td>\n",
              "      <td>2013-01-03</td>\n",
              "      <td>9</td>\n",
              "      <td>SCHOOL AND OFFICE SUPPLIES</td>\n",
              "      <td>0.000</td>\n",
              "      <td>0</td>\n",
              "      <td>92.97</td>\n",
              "      <td>31</td>\n",
              "      <td>3</td>\n",
              "      <td>1</td>\n",
              "      <td>3</td>\n",
              "      <td>2013</td>\n",
              "      <td>B</td>\n",
              "      <td>6</td>\n",
              "      <td>0</td>\n",
              "    </tr>\n",
              "    <tr>\n",
              "      <th>5345</th>\n",
              "      <td>5345</td>\n",
              "      <td>2013-01-03</td>\n",
              "      <td>9</td>\n",
              "      <td>SEAFOOD</td>\n",
              "      <td>25.000</td>\n",
              "      <td>0</td>\n",
              "      <td>92.97</td>\n",
              "      <td>32</td>\n",
              "      <td>3</td>\n",
              "      <td>1</td>\n",
              "      <td>3</td>\n",
              "      <td>2013</td>\n",
              "      <td>B</td>\n",
              "      <td>6</td>\n",
              "      <td>0</td>\n",
              "    </tr>\n",
              "  </tbody>\n",
              "</table>\n",
              "<p>5346 rows × 15 columns</p>\n",
              "</div>\n",
              "      <button class=\"colab-df-convert\" onclick=\"convertToInteractive('df-2497dfad-16e0-4d7c-a806-4cb64380e2b8')\"\n",
              "              title=\"Convert this dataframe to an interactive table.\"\n",
              "              style=\"display:none;\">\n",
              "        \n",
              "  <svg xmlns=\"http://www.w3.org/2000/svg\" height=\"24px\"viewBox=\"0 0 24 24\"\n",
              "       width=\"24px\">\n",
              "    <path d=\"M0 0h24v24H0V0z\" fill=\"none\"/>\n",
              "    <path d=\"M18.56 5.44l.94 2.06.94-2.06 2.06-.94-2.06-.94-.94-2.06-.94 2.06-2.06.94zm-11 1L8.5 8.5l.94-2.06 2.06-.94-2.06-.94L8.5 2.5l-.94 2.06-2.06.94zm10 10l.94 2.06.94-2.06 2.06-.94-2.06-.94-.94-2.06-.94 2.06-2.06.94z\"/><path d=\"M17.41 7.96l-1.37-1.37c-.4-.4-.92-.59-1.43-.59-.52 0-1.04.2-1.43.59L10.3 9.45l-7.72 7.72c-.78.78-.78 2.05 0 2.83L4 21.41c.39.39.9.59 1.41.59.51 0 1.02-.2 1.41-.59l7.78-7.78 2.81-2.81c.8-.78.8-2.07 0-2.86zM5.41 20L4 18.59l7.72-7.72 1.47 1.35L5.41 20z\"/>\n",
              "  </svg>\n",
              "      </button>\n",
              "      \n",
              "  <style>\n",
              "    .colab-df-container {\n",
              "      display:flex;\n",
              "      flex-wrap:wrap;\n",
              "      gap: 12px;\n",
              "    }\n",
              "\n",
              "    .colab-df-convert {\n",
              "      background-color: #E8F0FE;\n",
              "      border: none;\n",
              "      border-radius: 50%;\n",
              "      cursor: pointer;\n",
              "      display: none;\n",
              "      fill: #1967D2;\n",
              "      height: 32px;\n",
              "      padding: 0 0 0 0;\n",
              "      width: 32px;\n",
              "    }\n",
              "\n",
              "    .colab-df-convert:hover {\n",
              "      background-color: #E2EBFA;\n",
              "      box-shadow: 0px 1px 2px rgba(60, 64, 67, 0.3), 0px 1px 3px 1px rgba(60, 64, 67, 0.15);\n",
              "      fill: #174EA6;\n",
              "    }\n",
              "\n",
              "    [theme=dark] .colab-df-convert {\n",
              "      background-color: #3B4455;\n",
              "      fill: #D2E3FC;\n",
              "    }\n",
              "\n",
              "    [theme=dark] .colab-df-convert:hover {\n",
              "      background-color: #434B5C;\n",
              "      box-shadow: 0px 1px 3px 1px rgba(0, 0, 0, 0.15);\n",
              "      filter: drop-shadow(0px 1px 2px rgba(0, 0, 0, 0.3));\n",
              "      fill: #FFFFFF;\n",
              "    }\n",
              "  </style>\n",
              "\n",
              "      <script>\n",
              "        const buttonEl =\n",
              "          document.querySelector('#df-2497dfad-16e0-4d7c-a806-4cb64380e2b8 button.colab-df-convert');\n",
              "        buttonEl.style.display =\n",
              "          google.colab.kernel.accessAllowed ? 'block' : 'none';\n",
              "\n",
              "        async function convertToInteractive(key) {\n",
              "          const element = document.querySelector('#df-2497dfad-16e0-4d7c-a806-4cb64380e2b8');\n",
              "          const dataTable =\n",
              "            await google.colab.kernel.invokeFunction('convertToInteractive',\n",
              "                                                     [key], {});\n",
              "          if (!dataTable) return;\n",
              "\n",
              "          const docLinkHtml = 'Like what you see? Visit the ' +\n",
              "            '<a target=\"_blank\" href=https://colab.research.google.com/notebooks/data_table.ipynb>data table notebook</a>'\n",
              "            + ' to learn more about interactive tables.';\n",
              "          element.innerHTML = '';\n",
              "          dataTable['output_type'] = 'display_data';\n",
              "          await google.colab.output.renderOutput(dataTable, element);\n",
              "          const docLink = document.createElement('div');\n",
              "          docLink.innerHTML = docLinkHtml;\n",
              "          element.appendChild(docLink);\n",
              "        }\n",
              "      </script>\n",
              "    </div>\n",
              "  </div>\n",
              "  "
            ]
          },
          "metadata": {},
          "execution_count": 7
        }
      ],
      "source": [
        "#create shortened data for test purposes\n",
        "date1 = '2013-01-01'\n",
        "date2 = '2013-01-03'\n",
        "\n",
        "oil_short = oil.loc[oil['date'].between(date1, date2)]\n",
        "holidays_short = holidays.loc[holidays['date'].between(date1, date2)]\n",
        "train_short = train.loc[train['date'].between(date1, date2)].copy()\n",
        "transactions_short = transactions.loc[transactions['date'].between(date1, date2)]\n",
        "\n",
        "train_short"
      ]
    },
    {
      "cell_type": "code",
      "execution_count": 8,
      "metadata": {
        "id": "M4-zWB2urv_k"
      },
      "outputs": [],
      "source": [
        "test = pd.read_csv('/content/data/test.csv')\n",
        "test['date'] = test['date'].apply(pd.to_datetime)\n",
        "\n",
        "# preprocess test data\n",
        "test = test.merge(oil)\n",
        "test = test.rename(columns={\"dcoilwtico\": \"oilprice\"})\n",
        "\n",
        "\n",
        "\n",
        "#change family names & type to numeric values\n",
        "test['family_id']=encoder_family.fit_transform(test['family'])\n",
        "\n",
        "\n",
        "\n",
        "#split up date into multiple informations\n",
        "test['day'] = test['date'].apply(lambda time: time.day)\n",
        "test['month'] = test['date'].apply(lambda time: time.month)\n",
        "test['weekday'] = test['date'].apply(lambda time: time.dayofweek)\n",
        "test['year'] = test['date'].apply(lambda time: time.year)"
      ]
    },
    {
      "cell_type": "code",
      "execution_count": 9,
      "metadata": {
        "id": "Z5g2gLNytDAy"
      },
      "outputs": [],
      "source": [
        "#test holiday handling\n",
        "\n",
        "#holiday handling\n",
        "def isholiday(row):\n",
        "  #data\n",
        "  date = row['date']\n",
        "  event = holidays.loc[holidays['date'] == date][0:1]\n",
        "  id = row['store_nbr']\n",
        "  city = stores.loc[stores['store_nbr'] == id]['city'].values\n",
        "  state = stores.loc[stores['store_nbr'] == id]['state'].values\n",
        "  \n",
        "  \n",
        "  #check if events apply:\n",
        "  if len(event) > 0:\n",
        "    national = event['locale'].values == 'National'\n",
        "    regional = event['locale'].values == 'Regional' and event['locale_name'].values == state\n",
        "    local = event['locale'].values == 'Local' and event['locale_name'].values == city\n",
        "    \n",
        "    if national[0] or regional[0] or local[0]:\n",
        "      if event['type'].values == 'Holiday' and  event['transferred'].values == False:\n",
        "        return 2\n",
        "      elif event['type'].values == 'Transfer':\n",
        "        return 2\n",
        "      elif event['type'].values == 'Bridge':\n",
        "        return 1\n",
        "      elif event['type'].values == 'Work Day':\n",
        "        return 0\n",
        "\n",
        "  #otherwise: check if weekend\n",
        "  if row['weekday']< 5:\n",
        "    return 0\n",
        "  else: \n",
        "    return 1\n",
        "\n",
        "\n",
        "#lookup table  (adds dates to stores table and gets holiday type)\n",
        "date1, date2 = test['date'].min(), test['date'].max()\n",
        "holiday_lookup = stores[['store_nbr', 'type', 'cluster']].copy()\n",
        "holiday_lookup.loc[:,'holiday'] = 0\n",
        "\n",
        "holiday_lookup = pd.merge(holiday_lookup, pd.DataFrame({'date': pd.date_range(date1, date2, freq = 'd')}), how = \"cross\")\n",
        "holiday_lookup['weekday'] = holiday_lookup['date'].apply(lambda time: time.dayofweek)\n",
        "holiday_lookup.loc[:, 'holiday'] = holiday_lookup.apply(lambda row: isholiday(row), axis = 1)\n",
        "holiday_lookup = holiday_lookup.drop('weekday', axis = 1)\n",
        "\n",
        "\n",
        "#join with train\n",
        "test = test.merge(holiday_lookup)\n",
        "test['type']=encoder_type.fit_transform(test['type'])"
      ]
    },
    {
      "cell_type": "markdown",
      "metadata": {
        "id": "1SZ1GszJ_YRD"
      },
      "source": [
        "## Test with Shortened Train set"
      ]
    },
    {
      "cell_type": "code",
      "execution_count": null,
      "metadata": {
        "colab": {
          "base_uri": "https://localhost:8080/",
          "height": 107
        },
        "id": "XYkdbnXEH79Y",
        "outputId": "77f64d5a-ce8b-495c-c593-ac45d0d8fef7"
      },
      "outputs": [
        {
          "data": {
            "application/vnd.google.colaboratory.intrinsic+json": {
              "type": "string"
            },
            "text/plain": [
              "'train_auto = train.copy()\\nprint(train_auto.shape[0])\\ntrain_auto = train_auto.loc[train_auto[\\'family\\'] == \"AUTOMOTIVE\"]\\ntrain_auto = train_auto.loc[train_auto[\\'store_nbr\\'] == 1]\\nprint(train_auto.shape[0])\\n\\ntrain_auto[\\'date\\'] = train_auto[\\'date\\'].apply(pd.to_datetime)\\ntrain_auto[\\'weekday\\'] = train_auto[\\'date\\'].apply(lambda time: time.dayofweek)\\ntrain_auto[\\'day\\'] = train_auto[\\'date\\'].apply(lambda time: time.day)\\n\\n\\n\\nX_train = train_auto[[\\'id\\', \\'day\\', \\'weekday\\', \\'onpromotion\\']]\\nplot_dates = train_auto[[\\'date\\']]\\nY_train = train_auto[[\\'sales\\']]\\n\\n\\ntrain_auto = test.copy()\\nprint(train_auto.shape[0])\\ntrain_auto = train_auto.loc[train_auto[\\'family\\'] == \"AUTOMOTIVE\"]\\ntrain_auto = train_auto.loc[train_auto[\\'store_nbr\\'] == 1]\\nprint(train_auto.shape[0])\\n\\ntrain_auto[\\'date\\'] = train_auto[\\'date\\'].apply(pd.to_datetime)\\ntrain_auto[\\'weekday\\'] = train_auto[\\'date\\'].apply(lambda time: time.dayofweek)\\ntrain_auto[\\'day\\'] = train_auto[\\'date\\'].apply(lambda time: time.day)\\n\\nX_test = train_auto[[\\'id\\', \\'day\\', \\'weekday\\', \\'onpromotion\\']]\\n'"
            ]
          },
          "execution_count": 12,
          "metadata": {},
          "output_type": "execute_result"
        }
      ],
      "source": [
        "#create testset only considering automotives at store 1\n",
        "'''train_auto = train.copy()\n",
        "print(train_auto.shape[0])\n",
        "train_auto = train_auto.loc[train_auto['family'] == \"AUTOMOTIVE\"]\n",
        "train_auto = train_auto.loc[train_auto['store_nbr'] == 1]\n",
        "print(train_auto.shape[0])\n",
        "\n",
        "train_auto['date'] = train_auto['date'].apply(pd.to_datetime)\n",
        "train_auto['weekday'] = train_auto['date'].apply(lambda time: time.dayofweek)\n",
        "train_auto['day'] = train_auto['date'].apply(lambda time: time.day)\n",
        "\n",
        "\n",
        "\n",
        "X_train = train_auto[['id', 'day', 'weekday', 'onpromotion']]\n",
        "plot_dates = train_auto[['date']]\n",
        "Y_train = train_auto[['sales']]\n",
        "\n",
        "\n",
        "train_auto = test.copy()\n",
        "print(train_auto.shape[0])\n",
        "train_auto = train_auto.loc[train_auto['family'] == \"AUTOMOTIVE\"]\n",
        "train_auto = train_auto.loc[train_auto['store_nbr'] == 1]\n",
        "print(train_auto.shape[0])\n",
        "\n",
        "train_auto['date'] = train_auto['date'].apply(pd.to_datetime)\n",
        "train_auto['weekday'] = train_auto['date'].apply(lambda time: time.dayofweek)\n",
        "train_auto['day'] = train_auto['date'].apply(lambda time: time.day)\n",
        "\n",
        "X_test = train_auto[['id', 'day', 'weekday', 'onpromotion']]\n",
        "'''"
      ]
    },
    {
      "cell_type": "code",
      "execution_count": 10,
      "metadata": {
        "colab": {
          "base_uri": "https://localhost:8080/"
        },
        "id": "ZPIPNdA9_hY5",
        "outputId": "b82acefd-5cce-4c00-a6a5-43ff0426986c"
      },
      "outputs": [
        {
          "output_type": "stream",
          "name": "stdout",
          "text": [
            "(85158, 15) \n",
            " (85158,)\n"
          ]
        }
      ],
      "source": [
        "#create test data for one family\n",
        "\n",
        "#cluster = stores[['store_nbr', 'cluster']].groupby('cluster').count().idxmax().values[0]\n",
        "#stores_in_cluster = stores.loc[stores['cluster'] == cluster]['store_nbr'].values\n",
        "\n",
        "train_simple = train.copy() #train.loc[train['store_nbr'].isin(stores_in_cluster)].copy()\n",
        "train_simple = train_simple.loc[train_simple['family_id'] == 32]\n",
        "\n",
        "\n",
        "cols = ['store_nbr', 'onpromotion', 'oilprice', 'holiday', 'weekday', 'day', 'month', 'type', 'cluster']\n",
        "sales_simple = train_simple[['sales', 'date']].copy()\n",
        "\n",
        "X_train = train_simple.loc[train_simple['date'].between('2013-01-01', '2017-07-31')].copy()\n",
        "X_test = train_simple.loc[train_simple['date'].between('2017-08-01', '2017-08-15')].copy()  \n",
        "Y_train = sales_simple.loc[sales_simple['date'].between('2013-01-01', '2017-07-31')].copy()\n",
        "Y_test = sales_simple.loc[sales_simple['date'].between('2017-08-01', '2017-08-15')].copy()\n",
        "\n",
        "Y_train = Y_train['sales']\n",
        "Y_test = Y_test['sales']\n",
        "\n",
        "print(X_train.shape, '\\n', Y_train.shape)"
      ]
    },
    {
      "cell_type": "markdown",
      "metadata": {
        "id": "yoDV2WbsE8jd"
      },
      "source": [
        "## Regression"
      ]
    },
    {
      "cell_type": "code",
      "execution_count": 11,
      "metadata": {
        "id": "wYlcGXaBpiul"
      },
      "outputs": [],
      "source": [
        "from sklearn.metrics import mean_squared_error\n",
        "from sklearn.ensemble import RandomForestRegressor"
      ]
    },
    {
      "cell_type": "code",
      "execution_count": 17,
      "metadata": {
        "colab": {
          "base_uri": "https://localhost:8080/"
        },
        "id": "f33yl1HeFCzB",
        "outputId": "475002b3-fd6d-4a4f-dfa2-d3732135dcd6"
      },
      "outputs": [
        {
          "output_type": "stream",
          "name": "stdout",
          "text": [
            "1.70650095308362\n"
          ]
        }
      ],
      "source": [
        "#test simple data\n",
        "cols = ['store_nbr', 'onpromotion', 'oilprice', 'holiday', 'weekday', 'day', 'month', 'type', 'cluster']\n",
        "\n",
        "#regr = RandomForestRegressor(n_estimators = 100, n_jobs=-1, random_state=1)\n",
        "#regr.fit(X_train[cols].values, Y_train.values.ravel())\n",
        "regr = models[31]\n",
        "def pred(row):\n",
        "  X = row[cols].values.reshape(1,-1)\n",
        "  return regr.predict(X)[0]\n",
        "\n",
        "predict = X_test[cols].apply(lambda row: pred(row), axis = 1)\n",
        "\n",
        "print(mean_squared_log_error(Y_test.values, predict, squared=False))\n"
      ]
    },
    {
      "cell_type": "code",
      "source": [
        ""
      ],
      "metadata": {
        "id": "bjWG_JC-zqBp"
      },
      "execution_count": null,
      "outputs": []
    },
    {
      "cell_type": "markdown",
      "metadata": {
        "id": "b1WP7j07RPlA"
      },
      "source": [
        "## Plots"
      ]
    },
    {
      "cell_type": "code",
      "execution_count": null,
      "metadata": {
        "colab": {
          "base_uri": "https://localhost:8080/",
          "height": 54
        },
        "id": "3t56uB-ISLkY",
        "outputId": "ec1ca680-37b2-4d10-acf5-4ab88767ed25"
      },
      "outputs": [
        {
          "data": {
            "image/png": "[encoded data removed]",
            "text/plain": [
              "<Figure size 720x360 with 7 Axes>"
            ]
          },
          "metadata": {},
          "output_type": "display_data"
        }
      ],
      "source": [
        "import matplotlib.pyplot as plt\n",
        "from matplotlib.dates import DateFormatter\n",
        "import matplotlib.dates as mdates\n",
        "\n",
        "#fig, ax = plt.subplots(figsize=(8, 5))\n",
        "\n",
        "x =  pd.date_range('2017-08-01', '2017-08-15', freq = 'd')\n",
        "date_form = DateFormatter(\"%d.%m.%y\")\n",
        "n = len(stores_in_cluster)\n",
        "\n",
        "#bring values in useful shape\n",
        "y_val = Y_test.values\n",
        "y_val = y_val.reshape(-1, n).transpose()\n",
        "p_val = predict.reshape(-1, n).transpose()\n",
        "\n",
        "\n",
        "#create subplots\n",
        "if n % 2 == 0:\n",
        "      f, axs = plt.subplots(n/2, 2, figsize=(10,5))\n",
        "else:\n",
        "    f, axs = plt.subplots(int((n+1)/2), 2,  figsize=(10,5),)\n",
        "\n",
        "#add values\n",
        "for i in range(n):\n",
        "    y1 = p_val[i]\n",
        "    y2 = y_val[i]\n",
        "\n",
        "    if i % 2 == 0:\n",
        "      nb = int(i/2)\n",
        "    else:\n",
        "      nb = int((i)/2)\n",
        "    \n",
        "    axs[nb, i%2].plot(x, y1)\n",
        "    axs[nb, i%2].plot(x, y2)\n",
        "    axs[nb, i%2].xaxis.set_major_formatter(date_form)\n",
        "    axs[nb, i%2].xaxis.set_major_locator(mdates.DayLocator(interval=3))\n",
        "        \n",
        "if n % 2 != 0:\n",
        "    f.delaxes(axs[int((i)/2), 1])\n",
        "\n",
        "f.tight_layout() \n",
        "f.subplots_adjust(bottom=0.1)   ##  Need to play with this number.\n",
        "f.legend(labels = ['prediction', 'actual sales'], loc=(.7,.1))\n",
        "\n",
        "#f.suptitle('Results Random Forest Regression')\n",
        "\n",
        "\n",
        "f.show()"
      ]
    },
    {
      "cell_type": "code",
      "execution_count": null,
      "metadata": {
        "colab": {
          "base_uri": "https://localhost:8080/",
          "height": 1000
        },
        "id": "ILDCjGliaTx7",
        "outputId": "87174a86-1963-402b-c391-9adb39dd02d7"
      },
      "outputs": [
        {
          "data": {
            "application/vnd.google.colaboratory.intrinsic+json": {
              "type": "string"
            },
            "text/plain": [
              "'\\nfig, ax = plt.subplots(figsize=(20, 8))\\n#get dates\\ndate1, date2 = sales_simple[\\'date\\'].min(), sales_simple[\\'date\\'].max()\\nplot_dates =  pd.date_range(date1, date2, freq = \\'d\\')\\n\\nleap = []\\nfor each in plot_dates:\\n    if each.month==12 and each.day ==25:\\n        leap.append(each)\\nplot_dates = plot_dates.drop(leap)\\n\\ns = sales_simple[\\'sales\\'].values.reshape(n, -1).transpose()\\nplt.plot(plot_dates, s, label = stores_in_cluster)\\ndate_form = DateFormatter(\"%m/%y\")\\nax.xaxis.set_major_formatter(date_form)\\nax.xaxis.set_major_locator(mdates.MonthLocator(interval=2))\\nplt.title(\\'total sales\\')\\n'"
            ]
          },
          "execution_count": 17,
          "metadata": {},
          "output_type": "execute_result"
        }
      ],
      "source": [
        "'''\n",
        "fig, ax = plt.subplots(figsize=(20, 8))\n",
        "#get dates\n",
        "date1, date2 = sales_simple['date'].min(), sales_simple['date'].max()\n",
        "plot_dates =  pd.date_range(date1, date2, freq = 'd')\n",
        "\n",
        "leap = []\n",
        "for each in plot_dates:\n",
        "    if each.month==12 and each.day ==25:\n",
        "        leap.append(each)\n",
        "plot_dates = plot_dates.drop(leap)\n",
        "\n",
        "s = sales_simple['sales'].values.reshape(n, -1).transpose()\n",
        "plt.plot(plot_dates, s, label = stores_in_cluster)\n",
        "date_form = DateFormatter(\"%m/%y\")\n",
        "ax.xaxis.set_major_formatter(date_form)\n",
        "ax.xaxis.set_major_locator(mdates.MonthLocator(interval=2))\n",
        "plt.title('total sales')\n",
        "'''"
      ]
    },
    {
      "cell_type": "code",
      "execution_count": null,
      "metadata": {
        "id": "fqe87aovNchn"
      },
      "outputs": [],
      "source": [
        "#plot_dates.difference(sales_simple['date'])\n"
      ]
    },
    {
      "cell_type": "code",
      "execution_count": null,
      "metadata": {
        "colab": {
          "base_uri": "https://localhost:8080/",
          "height": 1000
        },
        "id": "8OkbPa2zbUu2",
        "outputId": "f16d3a85-8f09-4698-df24-7a345227b8fe"
      },
      "outputs": [
        {
          "data": {
            "application/vnd.google.colaboratory.intrinsic+json": {
              "type": "string"
            },
            "text/plain": [
              "'\\n\\nimport matplotlib.pyplot as plt\\nfrom matplotlib.dates import DateFormatter\\nimport matplotlib.dates as mdates\\n\\ndays = np.zeros(7)\\ncounter  = np.zeros(7)\\n\\ndates = plot_dates.copy()\\ndates[\\'weekday\\'] = dates[\\'date\\'].apply(lambda time: time.dayofweek)\\n\\nwd = dates[\\'weekday\\'].values.flatten()\\n\\nsales = Y_train.values.flatten()\\nfor i in range(len(plot_dates)):\\n  weekday = wd[i]\\n  days[weekday] += sales[i]\\n  counter[weekday] += 1\\n\\ndays = days/counter\\nfig, ax = plt.subplots(figsize=(8, 5))\\n#plt.plot(train_short[[\\'sales\\']], label = \"correct value\")\\nplt.plot(days, label = \"prediction\")\\nplt.title(\\'average week\\')\\nplt.show()\\n\\n'"
            ]
          },
          "execution_count": 19,
          "metadata": {},
          "output_type": "execute_result"
        }
      ],
      "source": [
        "'''\n",
        "\n",
        "import matplotlib.pyplot as plt\n",
        "from matplotlib.dates import DateFormatter\n",
        "import matplotlib.dates as mdates\n",
        "\n",
        "days = np.zeros(7)\n",
        "counter  = np.zeros(7)\n",
        "\n",
        "dates = plot_dates.copy()\n",
        "dates['weekday'] = dates['date'].apply(lambda time: time.dayofweek)\n",
        "\n",
        "wd = dates['weekday'].values.flatten()\n",
        "\n",
        "sales = Y_train.values.flatten()\n",
        "for i in range(len(plot_dates)):\n",
        "  weekday = wd[i]\n",
        "  days[weekday] += sales[i]\n",
        "  counter[weekday] += 1\n",
        "\n",
        "days = days/counter\n",
        "fig, ax = plt.subplots(figsize=(8, 5))\n",
        "#plt.plot(train_short[['sales']], label = \"correct value\")\n",
        "plt.plot(days, label = \"prediction\")\n",
        "plt.title('average week')\n",
        "plt.show()\n",
        "\n",
        "'''"
      ]
    },
    {
      "cell_type": "code",
      "execution_count": null,
      "metadata": {
        "colab": {
          "base_uri": "https://localhost:8080/",
          "height": 1000
        },
        "id": "a0qftzuOeJQm",
        "outputId": "b38f6a16-2c2c-4017-e044-7adb4838e4df"
      },
      "outputs": [
        {
          "data": {
            "application/vnd.google.colaboratory.intrinsic+json": {
              "type": "string"
            },
            "text/plain": [
              "'import matplotlib.pyplot as plt\\nfrom matplotlib.dates import DateFormatter\\nimport matplotlib.dates as mdates\\n\\ndays = np.zeros(31)\\ncounter  = np.zeros(31)\\n\\ndates = plot_dates.copy()\\ndates[\\'day\\'] = dates[\\'date\\'].apply(lambda time: time.day)\\n\\nwd = dates[\\'day\\'].values.flatten()\\n\\nsales = Y_train.values.flatten()\\nfor i in range(len(plot_dates)):\\n  weekday = wd[i] - 1\\n  days[weekday] += sales[i]\\n  counter[weekday] += 1\\n\\ndays = days/counter\\nfig, ax = plt.subplots(figsize=(8, 5))\\n#plt.plot(train_short[[\\'sales\\']], label = \"correct value\")\\nplt.plot(range(1, 32), days, label = \"prediction\")\\nplt.title(\\'average month\\')\\nplt.show()'"
            ]
          },
          "execution_count": 20,
          "metadata": {},
          "output_type": "execute_result"
        }
      ],
      "source": [
        "\n",
        "'''import matplotlib.pyplot as plt\n",
        "from matplotlib.dates import DateFormatter\n",
        "import matplotlib.dates as mdates\n",
        "\n",
        "days = np.zeros(31)\n",
        "counter  = np.zeros(31)\n",
        "\n",
        "dates = plot_dates.copy()\n",
        "dates['day'] = dates['date'].apply(lambda time: time.day)\n",
        "\n",
        "wd = dates['day'].values.flatten()\n",
        "\n",
        "sales = Y_train.values.flatten()\n",
        "for i in range(len(plot_dates)):\n",
        "  weekday = wd[i] - 1\n",
        "  days[weekday] += sales[i]\n",
        "  counter[weekday] += 1\n",
        "\n",
        "days = days/counter\n",
        "fig, ax = plt.subplots(figsize=(8, 5))\n",
        "#plt.plot(train_short[['sales']], label = \"correct value\")\n",
        "plt.plot(range(1, 32), days, label = \"prediction\")\n",
        "plt.title('average month')\n",
        "plt.show()'''"
      ]
    },
    {
      "cell_type": "markdown",
      "metadata": {
        "id": "NqY5jz1_vacr"
      },
      "source": [
        "## Testing Stuff"
      ]
    },
    {
      "cell_type": "code",
      "execution_count": 18,
      "metadata": {
        "colab": {
          "base_uri": "https://localhost:8080/",
          "height": 424
        },
        "id": "N0PS-W8wzygu",
        "outputId": "d486d78f-a4c7-4ca6-b9ca-665e98cc870f"
      },
      "outputs": [
        {
          "output_type": "execute_result",
          "data": {
            "text/plain": [
              "              id       date  store_nbr                      family     sales  \\\n",
              "0              0 2013-01-01          1                  AUTOMOTIVE     0.000   \n",
              "1              1 2013-01-01          1                   BABY CARE     0.000   \n",
              "2              2 2013-01-01          1                      BEAUTY     0.000   \n",
              "3              3 2013-01-01          1                   BEVERAGES     0.000   \n",
              "4              4 2013-01-01          1                       BOOKS     0.000   \n",
              "...          ...        ...        ...                         ...       ...   \n",
              "2836939  3000883 2017-08-15          9                     POULTRY   438.133   \n",
              "2836940  3000884 2017-08-15          9              PREPARED FOODS   154.553   \n",
              "2836941  3000885 2017-08-15          9                     PRODUCE  2419.729   \n",
              "2836942  3000886 2017-08-15          9  SCHOOL AND OFFICE SUPPLIES   121.000   \n",
              "2836943  3000887 2017-08-15          9                     SEAFOOD    16.000   \n",
              "\n",
              "         onpromotion  oilprice  family_id  day  month  weekday  year  type  \\\n",
              "0                  0     93.14          0    1      1        1  2013     3   \n",
              "1                  0     93.14          1    1      1        1  2013     3   \n",
              "2                  0     93.14          2    1      1        1  2013     3   \n",
              "3                  0     93.14          3    1      1        1  2013     3   \n",
              "4                  0     93.14          4    1      1        1  2013     3   \n",
              "...              ...       ...        ...  ...    ...      ...   ...   ...   \n",
              "2836939            0     47.57         28   15      8        1  2017     1   \n",
              "2836940            1     47.57         29   15      8        1  2017     1   \n",
              "2836941          148     47.57         30   15      8        1  2017     1   \n",
              "2836942            8     47.57         31   15      8        1  2017     1   \n",
              "2836943            0     47.57         32   15      8        1  2017     1   \n",
              "\n",
              "         cluster  holiday  \n",
              "0             13        2  \n",
              "1             13        2  \n",
              "2             13        2  \n",
              "3             13        2  \n",
              "4             13        2  \n",
              "...          ...      ...  \n",
              "2836939        6        0  \n",
              "2836940        6        0  \n",
              "2836941        6        0  \n",
              "2836942        6        0  \n",
              "2836943        6        0  \n",
              "\n",
              "[2836944 rows x 15 columns]"
            ],
            "text/html": [
              "\n",
              "  <div id=\"df-07113c38-5eda-44b1-b88c-1a9a1736a0ca\">\n",
              "    <div class=\"colab-df-container\">\n",
              "      <div>\n",
              "<style scoped>\n",
              "    .dataframe tbody tr th:only-of-type {\n",
              "        vertical-align: middle;\n",
              "    }\n",
              "\n",
              "    .dataframe tbody tr th {\n",
              "        vertical-align: top;\n",
              "    }\n",
              "\n",
              "    .dataframe thead th {\n",
              "        text-align: right;\n",
              "    }\n",
              "</style>\n",
              "<table border=\"1\" class=\"dataframe\">\n",
              "  <thead>\n",
              "    <tr style=\"text-align: right;\">\n",
              "      <th></th>\n",
              "      <th>id</th>\n",
              "      <th>date</th>\n",
              "      <th>store_nbr</th>\n",
              "      <th>family</th>\n",
              "      <th>sales</th>\n",
              "      <th>onpromotion</th>\n",
              "      <th>oilprice</th>\n",
              "      <th>family_id</th>\n",
              "      <th>day</th>\n",
              "      <th>month</th>\n",
              "      <th>weekday</th>\n",
              "      <th>year</th>\n",
              "      <th>type</th>\n",
              "      <th>cluster</th>\n",
              "      <th>holiday</th>\n",
              "    </tr>\n",
              "  </thead>\n",
              "  <tbody>\n",
              "    <tr>\n",
              "      <th>0</th>\n",
              "      <td>0</td>\n",
              "      <td>2013-01-01</td>\n",
              "      <td>1</td>\n",
              "      <td>AUTOMOTIVE</td>\n",
              "      <td>0.000</td>\n",
              "      <td>0</td>\n",
              "      <td>93.14</td>\n",
              "      <td>0</td>\n",
              "      <td>1</td>\n",
              "      <td>1</td>\n",
              "      <td>1</td>\n",
              "      <td>2013</td>\n",
              "      <td>3</td>\n",
              "      <td>13</td>\n",
              "      <td>2</td>\n",
              "    </tr>\n",
              "    <tr>\n",
              "      <th>1</th>\n",
              "      <td>1</td>\n",
              "      <td>2013-01-01</td>\n",
              "      <td>1</td>\n",
              "      <td>BABY CARE</td>\n",
              "      <td>0.000</td>\n",
              "      <td>0</td>\n",
              "      <td>93.14</td>\n",
              "      <td>1</td>\n",
              "      <td>1</td>\n",
              "      <td>1</td>\n",
              "      <td>1</td>\n",
              "      <td>2013</td>\n",
              "      <td>3</td>\n",
              "      <td>13</td>\n",
              "      <td>2</td>\n",
              "    </tr>\n",
              "    <tr>\n",
              "      <th>2</th>\n",
              "      <td>2</td>\n",
              "      <td>2013-01-01</td>\n",
              "      <td>1</td>\n",
              "      <td>BEAUTY</td>\n",
              "      <td>0.000</td>\n",
              "      <td>0</td>\n",
              "      <td>93.14</td>\n",
              "      <td>2</td>\n",
              "      <td>1</td>\n",
              "      <td>1</td>\n",
              "      <td>1</td>\n",
              "      <td>2013</td>\n",
              "      <td>3</td>\n",
              "      <td>13</td>\n",
              "      <td>2</td>\n",
              "    </tr>\n",
              "    <tr>\n",
              "      <th>3</th>\n",
              "      <td>3</td>\n",
              "      <td>2013-01-01</td>\n",
              "      <td>1</td>\n",
              "      <td>BEVERAGES</td>\n",
              "      <td>0.000</td>\n",
              "      <td>0</td>\n",
              "      <td>93.14</td>\n",
              "      <td>3</td>\n",
              "      <td>1</td>\n",
              "      <td>1</td>\n",
              "      <td>1</td>\n",
              "      <td>2013</td>\n",
              "      <td>3</td>\n",
              "      <td>13</td>\n",
              "      <td>2</td>\n",
              "    </tr>\n",
              "    <tr>\n",
              "      <th>4</th>\n",
              "      <td>4</td>\n",
              "      <td>2013-01-01</td>\n",
              "      <td>1</td>\n",
              "      <td>BOOKS</td>\n",
              "      <td>0.000</td>\n",
              "      <td>0</td>\n",
              "      <td>93.14</td>\n",
              "      <td>4</td>\n",
              "      <td>1</td>\n",
              "      <td>1</td>\n",
              "      <td>1</td>\n",
              "      <td>2013</td>\n",
              "      <td>3</td>\n",
              "      <td>13</td>\n",
              "      <td>2</td>\n",
              "    </tr>\n",
              "    <tr>\n",
              "      <th>...</th>\n",
              "      <td>...</td>\n",
              "      <td>...</td>\n",
              "      <td>...</td>\n",
              "      <td>...</td>\n",
              "      <td>...</td>\n",
              "      <td>...</td>\n",
              "      <td>...</td>\n",
              "      <td>...</td>\n",
              "      <td>...</td>\n",
              "      <td>...</td>\n",
              "      <td>...</td>\n",
              "      <td>...</td>\n",
              "      <td>...</td>\n",
              "      <td>...</td>\n",
              "      <td>...</td>\n",
              "    </tr>\n",
              "    <tr>\n",
              "      <th>2836939</th>\n",
              "      <td>3000883</td>\n",
              "      <td>2017-08-15</td>\n",
              "      <td>9</td>\n",
              "      <td>POULTRY</td>\n",
              "      <td>438.133</td>\n",
              "      <td>0</td>\n",
              "      <td>47.57</td>\n",
              "      <td>28</td>\n",
              "      <td>15</td>\n",
              "      <td>8</td>\n",
              "      <td>1</td>\n",
              "      <td>2017</td>\n",
              "      <td>1</td>\n",
              "      <td>6</td>\n",
              "      <td>0</td>\n",
              "    </tr>\n",
              "    <tr>\n",
              "      <th>2836940</th>\n",
              "      <td>3000884</td>\n",
              "      <td>2017-08-15</td>\n",
              "      <td>9</td>\n",
              "      <td>PREPARED FOODS</td>\n",
              "      <td>154.553</td>\n",
              "      <td>1</td>\n",
              "      <td>47.57</td>\n",
              "      <td>29</td>\n",
              "      <td>15</td>\n",
              "      <td>8</td>\n",
              "      <td>1</td>\n",
              "      <td>2017</td>\n",
              "      <td>1</td>\n",
              "      <td>6</td>\n",
              "      <td>0</td>\n",
              "    </tr>\n",
              "    <tr>\n",
              "      <th>2836941</th>\n",
              "      <td>3000885</td>\n",
              "      <td>2017-08-15</td>\n",
              "      <td>9</td>\n",
              "      <td>PRODUCE</td>\n",
              "      <td>2419.729</td>\n",
              "      <td>148</td>\n",
              "      <td>47.57</td>\n",
              "      <td>30</td>\n",
              "      <td>15</td>\n",
              "      <td>8</td>\n",
              "      <td>1</td>\n",
              "      <td>2017</td>\n",
              "      <td>1</td>\n",
              "      <td>6</td>\n",
              "      <td>0</td>\n",
              "    </tr>\n",
              "    <tr>\n",
              "      <th>2836942</th>\n",
              "      <td>3000886</td>\n",
              "      <td>2017-08-15</td>\n",
              "      <td>9</td>\n",
              "      <td>SCHOOL AND OFFICE SUPPLIES</td>\n",
              "      <td>121.000</td>\n",
              "      <td>8</td>\n",
              "      <td>47.57</td>\n",
              "      <td>31</td>\n",
              "      <td>15</td>\n",
              "      <td>8</td>\n",
              "      <td>1</td>\n",
              "      <td>2017</td>\n",
              "      <td>1</td>\n",
              "      <td>6</td>\n",
              "      <td>0</td>\n",
              "    </tr>\n",
              "    <tr>\n",
              "      <th>2836943</th>\n",
              "      <td>3000887</td>\n",
              "      <td>2017-08-15</td>\n",
              "      <td>9</td>\n",
              "      <td>SEAFOOD</td>\n",
              "      <td>16.000</td>\n",
              "      <td>0</td>\n",
              "      <td>47.57</td>\n",
              "      <td>32</td>\n",
              "      <td>15</td>\n",
              "      <td>8</td>\n",
              "      <td>1</td>\n",
              "      <td>2017</td>\n",
              "      <td>1</td>\n",
              "      <td>6</td>\n",
              "      <td>0</td>\n",
              "    </tr>\n",
              "  </tbody>\n",
              "</table>\n",
              "<p>2836944 rows × 15 columns</p>\n",
              "</div>\n",
              "      <button class=\"colab-df-convert\" onclick=\"convertToInteractive('df-07113c38-5eda-44b1-b88c-1a9a1736a0ca')\"\n",
              "              title=\"Convert this dataframe to an interactive table.\"\n",
              "              style=\"display:none;\">\n",
              "        \n",
              "  <svg xmlns=\"http://www.w3.org/2000/svg\" height=\"24px\"viewBox=\"0 0 24 24\"\n",
              "       width=\"24px\">\n",
              "    <path d=\"M0 0h24v24H0V0z\" fill=\"none\"/>\n",
              "    <path d=\"M18.56 5.44l.94 2.06.94-2.06 2.06-.94-2.06-.94-.94-2.06-.94 2.06-2.06.94zm-11 1L8.5 8.5l.94-2.06 2.06-.94-2.06-.94L8.5 2.5l-.94 2.06-2.06.94zm10 10l.94 2.06.94-2.06 2.06-.94-2.06-.94-.94-2.06-.94 2.06-2.06.94z\"/><path d=\"M17.41 7.96l-1.37-1.37c-.4-.4-.92-.59-1.43-.59-.52 0-1.04.2-1.43.59L10.3 9.45l-7.72 7.72c-.78.78-.78 2.05 0 2.83L4 21.41c.39.39.9.59 1.41.59.51 0 1.02-.2 1.41-.59l7.78-7.78 2.81-2.81c.8-.78.8-2.07 0-2.86zM5.41 20L4 18.59l7.72-7.72 1.47 1.35L5.41 20z\"/>\n",
              "  </svg>\n",
              "      </button>\n",
              "      \n",
              "  <style>\n",
              "    .colab-df-container {\n",
              "      display:flex;\n",
              "      flex-wrap:wrap;\n",
              "      gap: 12px;\n",
              "    }\n",
              "\n",
              "    .colab-df-convert {\n",
              "      background-color: #E8F0FE;\n",
              "      border: none;\n",
              "      border-radius: 50%;\n",
              "      cursor: pointer;\n",
              "      display: none;\n",
              "      fill: #1967D2;\n",
              "      height: 32px;\n",
              "      padding: 0 0 0 0;\n",
              "      width: 32px;\n",
              "    }\n",
              "\n",
              "    .colab-df-convert:hover {\n",
              "      background-color: #E2EBFA;\n",
              "      box-shadow: 0px 1px 2px rgba(60, 64, 67, 0.3), 0px 1px 3px 1px rgba(60, 64, 67, 0.15);\n",
              "      fill: #174EA6;\n",
              "    }\n",
              "\n",
              "    [theme=dark] .colab-df-convert {\n",
              "      background-color: #3B4455;\n",
              "      fill: #D2E3FC;\n",
              "    }\n",
              "\n",
              "    [theme=dark] .colab-df-convert:hover {\n",
              "      background-color: #434B5C;\n",
              "      box-shadow: 0px 1px 3px 1px rgba(0, 0, 0, 0.15);\n",
              "      filter: drop-shadow(0px 1px 2px rgba(0, 0, 0, 0.3));\n",
              "      fill: #FFFFFF;\n",
              "    }\n",
              "  </style>\n",
              "\n",
              "      <script>\n",
              "        const buttonEl =\n",
              "          document.querySelector('#df-07113c38-5eda-44b1-b88c-1a9a1736a0ca button.colab-df-convert');\n",
              "        buttonEl.style.display =\n",
              "          google.colab.kernel.accessAllowed ? 'block' : 'none';\n",
              "\n",
              "        async function convertToInteractive(key) {\n",
              "          const element = document.querySelector('#df-07113c38-5eda-44b1-b88c-1a9a1736a0ca');\n",
              "          const dataTable =\n",
              "            await google.colab.kernel.invokeFunction('convertToInteractive',\n",
              "                                                     [key], {});\n",
              "          if (!dataTable) return;\n",
              "\n",
              "          const docLinkHtml = 'Like what you see? Visit the ' +\n",
              "            '<a target=\"_blank\" href=https://colab.research.google.com/notebooks/data_table.ipynb>data table notebook</a>'\n",
              "            + ' to learn more about interactive tables.';\n",
              "          element.innerHTML = '';\n",
              "          dataTable['output_type'] = 'display_data';\n",
              "          await google.colab.output.renderOutput(dataTable, element);\n",
              "          const docLink = document.createElement('div');\n",
              "          docLink.innerHTML = docLinkHtml;\n",
              "          element.appendChild(docLink);\n",
              "        }\n",
              "      </script>\n",
              "    </div>\n",
              "  </div>\n",
              "  "
            ]
          },
          "metadata": {},
          "execution_count": 18
        }
      ],
      "source": [
        "train"
      ]
    },
    {
      "cell_type": "code",
      "execution_count": 12,
      "metadata": {
        "id": "z3odgSBgzqRE"
      },
      "outputs": [],
      "source": [
        "from sklearn.metrics import mean_squared_log_error"
      ]
    },
    {
      "cell_type": "code",
      "execution_count": 13,
      "metadata": {
        "id": "AtNI94_Nvsew"
      },
      "outputs": [],
      "source": [
        "#create train&test data\n",
        "X_train = train.loc[train['date'].between('2013-01-01', '2017-07-31')].copy()\n",
        "X_test = train.loc[train['date'].between('2017-08-01', '2017-08-15')].copy()\n",
        "Y_train = train.loc[train['date'].between('2013-01-01', '2017-07-31')]['sales'].copy()\n",
        "Y_test = train.loc[train['date'].between('2017-08-01', '2017-08-15')]['sales'].copy()"
      ]
    },
    {
      "cell_type": "code",
      "execution_count": null,
      "metadata": {
        "colab": {
          "background_save": true
        },
        "id": "nr3XRIM7vZ3r",
        "outputId": "9ff5168f-b03f-4401-d424-c9dc4e36d73d"
      },
      "outputs": [
        {
          "name": "stdout",
          "output_type": "stream",
          "text": [
            "2.517099256538185\n"
          ]
        }
      ],
      "source": [
        "#full dataset\n",
        "cols = ['store_nbr', 'onpromotion', 'oilprice', 'holiday', 'weekday', 'day', 'month', 'type', 'cluster']\n",
        "\n",
        "regr = RandomForestRegressor(n_estimators = 100, n_jobs=-1, random_state=1)\n",
        "regr.fit(X_train[cols].values, Y_train.values.ravel())\n",
        "\n",
        "def pred(row):\n",
        "  X = row[cols].values.reshape(1,-1)\n",
        "  return regr.predict(X)[0]\n",
        "\n",
        "predict = X_test[cols].apply(lambda row: pred(row), axis = 1)\n",
        "\n",
        "print(mean_squared_log_error(Y_test.values, predict, squared=False))\n"
      ]
    },
    {
      "cell_type": "code",
      "execution_count": 69,
      "metadata": {
        "colab": {
          "base_uri": "https://localhost:8080/"
        },
        "id": "kYb9hIVp0C22",
        "outputId": "b3f89dba-24d4-4dbc-b7fc-34fe5e56c21c"
      },
      "outputs": [
        {
          "output_type": "stream",
          "name": "stdout",
          "text": [
            "group  1 :  0.5864756017311841\n",
            "group  2 :  0.4538307461696917\n",
            "group  3 :  0.6214854125107098\n",
            "group  4 :  0.47563177050737987\n",
            "group  5 :  0.5340669039886548\n",
            "group  6 :  0.6037223169948758\n",
            "group  7 :  0.5462923382373112\n",
            "group  8 :  0.5145516682587722\n",
            "group  9 :  0.5307050086776426\n",
            "group  10 :  0.6302371702306058\n",
            "group  11 :  0.603951498915369\n",
            "group  12 :  0.6187089680310737\n",
            "group  13 :  0.5386603298339061\n",
            "group  14 :  0.5128118097046985\n",
            "group  15 :  0.5310510988285886\n",
            "group  16 :  0.6820227238554394\n",
            "total:  0.8704504716009682\n"
          ]
        }
      ],
      "source": [
        "#test with cluster\n",
        "\n",
        "cluster_nbr = train['cluster'].max()\n",
        "cols = ['onpromotion', 'oilprice', 'holiday', 'weekday', 'day', 'month', 'family_id']\n",
        "\n",
        "X_test['sales'] = 0\n",
        "\n",
        "\n",
        "\n",
        "for fam in range(1, cluster_nbr):\n",
        "\n",
        "\n",
        "\n",
        "  idx_train = X_train['cluster']== fam\n",
        "  regr = RandomForestRegressor(n_estimators = 50, n_jobs=-1, random_state=1)\n",
        "  X = X_train.loc[idx_train][cols].values\n",
        "  Y = Y_train.loc[idx_train].values.ravel()\n",
        "  regr.fit(X, Y)\n",
        "  idx_test = X_test['cluster']== fam\n",
        "  pred = regr.predict(X_test[idx_test][cols].values)\n",
        "\n",
        "  X_test.loc[idx_test,'sales'] = pred\n",
        "  print('group ', fam, ': ', mean_squared_log_error(Y_test[idx_test].values, pred, squared=False))\n",
        "\n",
        "\n",
        "\n",
        "print('total: ', mean_squared_log_error(Y_test.values, X_test['sales'].values, squared=False))\n"
      ]
    },
    {
      "cell_type": "code",
      "source": [
        "#test with family\n",
        "\n",
        "family_nbr = train['family_id'].max()\n",
        "cols = ['onpromotion', 'oilprice', 'holiday', 'weekday', 'day', 'month', 'cluster']\n",
        "\n",
        "X_test['sales'] = 0\n",
        "\n",
        "\n",
        "\n",
        "for fam in range(family_nbr):\n",
        "\n",
        "\n",
        "\n",
        "  idx_train = X_train['family_id']== fam\n",
        "  regr = RandomForestRegressor(n_estimators = 50, n_jobs=-1, random_state=1)\n",
        "  X = X_train.loc[idx_train][cols].values\n",
        "  Y = Y_train.loc[idx_train].values.ravel()\n",
        "  regr.fit(X, Y)\n",
        "  idx_test = X_test['family_id']== fam\n",
        "  pred = regr.predict(X_test[idx_test][cols].values)\n",
        "\n",
        "  X_test.loc[idx_test,'sales'] = pred\n",
        "  print('group ', fam, ': ', mean_squared_log_error(Y_test[idx_test].values, pred, squared=False))\n",
        "\n",
        "\n",
        "\n",
        "print('total: ', mean_squared_log_error(Y_test.values, X_test['sales'].values, squared=False))"
      ],
      "metadata": {
        "colab": {
          "base_uri": "https://localhost:8080/"
        },
        "id": "TN-Uqh9DyUnE",
        "outputId": "d44e9d25-b161-490d-e37b-ddae7db6014d"
      },
      "execution_count": 35,
      "outputs": [
        {
          "output_type": "stream",
          "name": "stdout",
          "text": [
            "group  0 :  0.6491556615559356\n",
            "group  1 :  0.38558852450087533\n",
            "group  2 :  0.5771325047942113\n",
            "group  3 :  0.25323590722364175\n",
            "group  4 :  0.08042289809425002\n",
            "group  5 :  0.4057670656446254\n",
            "group  6 :  0.7138994037314627\n",
            "group  7 :  0.2630666358640922\n",
            "group  8 :  0.20137944351187456\n",
            "group  9 :  0.19712519971805254\n",
            "group  10 :  0.7732257706423776\n",
            "group  11 :  0.3277714969265676\n",
            "group  12 :  0.16242395891595296\n",
            "group  13 :  0.7630322539146459\n",
            "group  14 :  0.6069239504870354\n",
            "group  15 :  0.6561697803601798\n",
            "group  16 :  0.5419417400856319\n",
            "group  17 :  0.38468145699526923\n",
            "group  18 :  0.22447566967154786\n",
            "group  19 :  0.7756810413099974\n",
            "group  20 :  0.9728020643078045\n",
            "group  21 :  0.787881580561164\n",
            "group  22 :  0.5751739683133306\n",
            "group  23 :  0.6941848785213265\n",
            "group  24 :  0.8254925969056088\n",
            "group  25 :  0.22767494684361517\n",
            "group  26 :  0.6668445022037555\n",
            "group  27 :  0.6955139438150746\n",
            "group  28 :  0.7982408254895252\n",
            "group  29 :  0.7613087855749764\n",
            "group  30 :  0.151809707883951\n",
            "group  31 :  0.6732360461658008\n",
            "total:  0.7329998967967193\n"
          ]
        }
      ]
    },
    {
      "cell_type": "code",
      "execution_count": 76,
      "metadata": {
        "colab": {
          "base_uri": "https://localhost:8080/"
        },
        "id": "mpVV43PphdYm",
        "outputId": "815a6129-3321-4501-a4c9-85e5291885f4"
      },
      "outputs": [
        {
          "output_type": "stream",
          "name": "stdout",
          "text": [
            "total:  0.5686385549148442\n"
          ]
        }
      ],
      "source": [
        "#test total \n",
        "\n",
        "cols = ['onpromotion', 'oilprice', 'holiday', 'weekday', 'day', 'month', 'cluster', 'family_id']\n",
        "\n",
        "X_test['sales'] = 0\n",
        "\n",
        "  \n",
        "regr = RandomForestRegressor(n_estimators = 50, n_jobs=-1, random_state=1)\n",
        "X = X_train.loc[:,cols].values\n",
        "Y = Y_train.values.ravel()\n",
        "regr.fit(X, Y)\n",
        "pred = regr.predict(X_test[cols].values)\n",
        "\n",
        "X_test.loc[:,'sales'] = pred\n",
        "\n",
        "\n",
        "\n",
        "print('total: ', mean_squared_log_error(Y_test.values, X_test['sales'].values, squared=False))"
      ]
    },
    {
      "cell_type": "code",
      "execution_count": 73,
      "metadata": {
        "colab": {
          "base_uri": "https://localhost:8080/"
        },
        "id": "DqXiqDulhrR5",
        "outputId": "af98f141-ca29-44b7-8fd9-6f4017db7e88"
      },
      "outputs": [
        {
          "output_type": "stream",
          "name": "stdout",
          "text": [
            "group  0 :  0.6965064617242762\n",
            "group  1 :  0.3004370746851512\n",
            "group  2 :  0.7875099291165235\n",
            "group  3 :  0.5885257351781089\n",
            "group  4 :  0.14061419953643406\n",
            "group  5 :  0.7573887522272756\n",
            "group  6 :  0.7884177342608759\n",
            "group  7 :  0.5642560880533974\n",
            "group  8 :  0.7135677407103665\n",
            "group  9 :  0.5942927608828088\n",
            "group  10 :  0.8132170681915424\n",
            "group  11 :  1.04213895750297\n",
            "group  12 :  0.5234132706550213\n",
            "group  13 :  1.0613462847897421\n",
            "group  14 :  0.6444946504159829\n",
            "group  15 :  0.739501123756726\n",
            "group  16 :  0.7218827298643932\n",
            "group  17 :  0.39077581111429605\n",
            "group  18 :  0.5579079757931933\n",
            "group  19 :  1.505074151132154\n",
            "group  20 :  1.4246937061303782\n",
            "group  21 :  0.9133614171715542\n",
            "group  22 :  1.1097291176961128\n",
            "group  23 :  1.0234161240930972\n",
            "group  24 :  0.7764991229019795\n",
            "group  25 :  0.6543484166140707\n",
            "group  26 :  1.022771757020726\n",
            "group  27 :  0.8658997863575758\n",
            "group  28 :  0.9122515753941342\n",
            "group  29 :  0.8806919662683701\n",
            "group  30 :  0.966090815046814\n",
            "group  31 :  0.9382414586518865\n",
            "total:  0.9483958693937816\n"
          ]
        }
      ],
      "source": [
        "#test Ridge\n",
        "from sklearn.linear_model import Ridge\n",
        "\n",
        "family_nbr = train['family_id'].max()\n",
        "cols = ['onpromotion', 'oilprice', 'holiday', 'weekday', 'day', 'month', 'cluster']\n",
        "\n",
        "X_test['sales'] = 0\n",
        "\n",
        "\n",
        "\n",
        "for fam in range(family_nbr):\n",
        "\n",
        "\n",
        "\n",
        "  idx_train = X_train['family_id']== fam\n",
        "  clf = Ridge()\n",
        "  X = X_train.loc[idx_train][cols].values\n",
        "  Y = Y_train.loc[idx_train].values.ravel()\n",
        "  clf.fit(X, Y)\n",
        "  idx_test = X_test['family_id']== fam\n",
        "  pred = clf.predict(X_test[idx_test][cols].values)\n",
        "\n",
        "  X_test.loc[idx_test,'sales'] = pred\n",
        "  print('group ', fam, ': ', mean_squared_log_error(Y_test[idx_test].values, pred, squared=False))\n",
        "\n",
        "\n",
        "\n",
        "print('total: ', mean_squared_log_error(Y_test.values, X_test['sales'].values, squared=False))"
      ]
    },
    {
      "cell_type": "markdown",
      "metadata": {
        "id": "NF3pC2DhqnYj"
      },
      "source": [
        "## Full Dataset"
      ]
    },
    {
      "cell_type": "code",
      "execution_count": null,
      "metadata": {
        "colab": {
          "background_save": true
        },
        "id": "naHOp3cMpmmT"
      },
      "outputs": [],
      "source": [
        "models = []\n",
        "\n",
        "\n",
        "family_nbr = train['family_id'].max()\n",
        "\n",
        "for fam in range(family_nbr):\n",
        "  train_fam = train.loc[train['family_id']== fam]\n",
        "  X_train = train_fam[['store_nbr', 'onpromotion', 'oilprice', 'holiday', 'weekday', 'day', 'month', 'type', 'cluster']].values\n",
        "  Y_train = train_fam['sales']\n",
        "\n",
        "  regr = RandomForestRegressor(max_depth=2, random_state=0)\n",
        "  regr.fit(X_train, Y_train.values.ravel())\n",
        "\n",
        "  models.append(regr)\n",
        "\n"
      ]
    },
    {
      "cell_type": "code",
      "execution_count": null,
      "metadata": {
        "colab": {
          "background_save": true
        },
        "id": "ltOu00dsrGAE",
        "outputId": "3a300af7-576c-4a38-f70e-373f2f0ac740"
      },
      "outputs": [
        {
          "ename": "ValueError",
          "evalue": "ignored",
          "output_type": "error",
          "traceback": [
            "\u001b[0;31m---------------------------------------------------------------------------\u001b[0m",
            "\u001b[0;31mValueError\u001b[0m                                Traceback (most recent call last)",
            "\u001b[0;32m<ipython-input-29-aa6d6a2e1343>\u001b[0m in \u001b[0;36m<module>\u001b[0;34m\u001b[0m\n\u001b[1;32m      4\u001b[0m   \u001b[0;32mreturn\u001b[0m \u001b[0mmodels\u001b[0m\u001b[0;34m[\u001b[0m\u001b[0mi\u001b[0m\u001b[0;34m-\u001b[0m\u001b[0;36m1\u001b[0m\u001b[0;34m]\u001b[0m\u001b[0;34m.\u001b[0m\u001b[0mpredict\u001b[0m\u001b[0;34m(\u001b[0m\u001b[0mX\u001b[0m\u001b[0;34m)\u001b[0m\u001b[0;34m[\u001b[0m\u001b[0;36m0\u001b[0m\u001b[0;34m]\u001b[0m\u001b[0;34m\u001b[0m\u001b[0;34m\u001b[0m\u001b[0m\n\u001b[1;32m      5\u001b[0m \u001b[0;34m\u001b[0m\u001b[0m\n\u001b[0;32m----> 6\u001b[0;31m \u001b[0mtest\u001b[0m\u001b[0;34m[\u001b[0m\u001b[0;34m'prediction'\u001b[0m\u001b[0;34m]\u001b[0m  \u001b[0;34m=\u001b[0m \u001b[0mtest\u001b[0m\u001b[0;34m.\u001b[0m\u001b[0mapply\u001b[0m\u001b[0;34m(\u001b[0m\u001b[0;32mlambda\u001b[0m \u001b[0mrow\u001b[0m\u001b[0;34m:\u001b[0m \u001b[0mpred\u001b[0m\u001b[0;34m(\u001b[0m\u001b[0mrow\u001b[0m\u001b[0;34m)\u001b[0m\u001b[0;34m,\u001b[0m \u001b[0maxis\u001b[0m \u001b[0;34m=\u001b[0m \u001b[0;36m1\u001b[0m\u001b[0;34m)\u001b[0m\u001b[0;34m\u001b[0m\u001b[0;34m\u001b[0m\u001b[0m\n\u001b[0m\u001b[1;32m      7\u001b[0m \u001b[0;34m\u001b[0m\u001b[0m\n",
            "\u001b[0;32m/usr/local/lib/python3.7/dist-packages/pandas/core/frame.py\u001b[0m in \u001b[0;36mapply\u001b[0;34m(self, func, axis, raw, result_type, args, **kwargs)\u001b[0m\n\u001b[1;32m   8738\u001b[0m             \u001b[0mkwargs\u001b[0m\u001b[0;34m=\u001b[0m\u001b[0mkwargs\u001b[0m\u001b[0;34m,\u001b[0m\u001b[0;34m\u001b[0m\u001b[0;34m\u001b[0m\u001b[0m\n\u001b[1;32m   8739\u001b[0m         )\n\u001b[0;32m-> 8740\u001b[0;31m         \u001b[0;32mreturn\u001b[0m \u001b[0mop\u001b[0m\u001b[0;34m.\u001b[0m\u001b[0mapply\u001b[0m\u001b[0;34m(\u001b[0m\u001b[0;34m)\u001b[0m\u001b[0;34m\u001b[0m\u001b[0;34m\u001b[0m\u001b[0m\n\u001b[0m\u001b[1;32m   8741\u001b[0m \u001b[0;34m\u001b[0m\u001b[0m\n\u001b[1;32m   8742\u001b[0m     def applymap(\n",
            "\u001b[0;32m/usr/local/lib/python3.7/dist-packages/pandas/core/apply.py\u001b[0m in \u001b[0;36mapply\u001b[0;34m(self)\u001b[0m\n\u001b[1;32m    686\u001b[0m             \u001b[0;32mreturn\u001b[0m \u001b[0mself\u001b[0m\u001b[0;34m.\u001b[0m\u001b[0mapply_raw\u001b[0m\u001b[0;34m(\u001b[0m\u001b[0;34m)\u001b[0m\u001b[0;34m\u001b[0m\u001b[0;34m\u001b[0m\u001b[0m\n\u001b[1;32m    687\u001b[0m \u001b[0;34m\u001b[0m\u001b[0m\n\u001b[0;32m--> 688\u001b[0;31m         \u001b[0;32mreturn\u001b[0m \u001b[0mself\u001b[0m\u001b[0;34m.\u001b[0m\u001b[0mapply_standard\u001b[0m\u001b[0;34m(\u001b[0m\u001b[0;34m)\u001b[0m\u001b[0;34m\u001b[0m\u001b[0;34m\u001b[0m\u001b[0m\n\u001b[0m\u001b[1;32m    689\u001b[0m \u001b[0;34m\u001b[0m\u001b[0m\n\u001b[1;32m    690\u001b[0m     \u001b[0;32mdef\u001b[0m \u001b[0magg\u001b[0m\u001b[0;34m(\u001b[0m\u001b[0mself\u001b[0m\u001b[0;34m)\u001b[0m\u001b[0;34m:\u001b[0m\u001b[0;34m\u001b[0m\u001b[0;34m\u001b[0m\u001b[0m\n",
            "\u001b[0;32m/usr/local/lib/python3.7/dist-packages/pandas/core/apply.py\u001b[0m in \u001b[0;36mapply_standard\u001b[0;34m(self)\u001b[0m\n\u001b[1;32m    810\u001b[0m \u001b[0;34m\u001b[0m\u001b[0m\n\u001b[1;32m    811\u001b[0m     \u001b[0;32mdef\u001b[0m \u001b[0mapply_standard\u001b[0m\u001b[0;34m(\u001b[0m\u001b[0mself\u001b[0m\u001b[0;34m)\u001b[0m\u001b[0;34m:\u001b[0m\u001b[0;34m\u001b[0m\u001b[0;34m\u001b[0m\u001b[0m\n\u001b[0;32m--> 812\u001b[0;31m         \u001b[0mresults\u001b[0m\u001b[0;34m,\u001b[0m \u001b[0mres_index\u001b[0m \u001b[0;34m=\u001b[0m \u001b[0mself\u001b[0m\u001b[0;34m.\u001b[0m\u001b[0mapply_series_generator\u001b[0m\u001b[0;34m(\u001b[0m\u001b[0;34m)\u001b[0m\u001b[0;34m\u001b[0m\u001b[0;34m\u001b[0m\u001b[0m\n\u001b[0m\u001b[1;32m    813\u001b[0m \u001b[0;34m\u001b[0m\u001b[0m\n\u001b[1;32m    814\u001b[0m         \u001b[0;31m# wrap results\u001b[0m\u001b[0;34m\u001b[0m\u001b[0;34m\u001b[0m\u001b[0;34m\u001b[0m\u001b[0m\n",
            "\u001b[0;32m/usr/local/lib/python3.7/dist-packages/pandas/core/apply.py\u001b[0m in \u001b[0;36mapply_series_generator\u001b[0;34m(self)\u001b[0m\n\u001b[1;32m    826\u001b[0m             \u001b[0;32mfor\u001b[0m \u001b[0mi\u001b[0m\u001b[0;34m,\u001b[0m \u001b[0mv\u001b[0m \u001b[0;32min\u001b[0m \u001b[0menumerate\u001b[0m\u001b[0;34m(\u001b[0m\u001b[0mseries_gen\u001b[0m\u001b[0;34m)\u001b[0m\u001b[0;34m:\u001b[0m\u001b[0;34m\u001b[0m\u001b[0;34m\u001b[0m\u001b[0m\n\u001b[1;32m    827\u001b[0m                 \u001b[0;31m# ignore SettingWithCopy here in case the user mutates\u001b[0m\u001b[0;34m\u001b[0m\u001b[0;34m\u001b[0m\u001b[0;34m\u001b[0m\u001b[0m\n\u001b[0;32m--> 828\u001b[0;31m                 \u001b[0mresults\u001b[0m\u001b[0;34m[\u001b[0m\u001b[0mi\u001b[0m\u001b[0;34m]\u001b[0m \u001b[0;34m=\u001b[0m \u001b[0mself\u001b[0m\u001b[0;34m.\u001b[0m\u001b[0mf\u001b[0m\u001b[0;34m(\u001b[0m\u001b[0mv\u001b[0m\u001b[0;34m)\u001b[0m\u001b[0;34m\u001b[0m\u001b[0;34m\u001b[0m\u001b[0m\n\u001b[0m\u001b[1;32m    829\u001b[0m                 \u001b[0;32mif\u001b[0m \u001b[0misinstance\u001b[0m\u001b[0;34m(\u001b[0m\u001b[0mresults\u001b[0m\u001b[0;34m[\u001b[0m\u001b[0mi\u001b[0m\u001b[0;34m]\u001b[0m\u001b[0;34m,\u001b[0m \u001b[0mABCSeries\u001b[0m\u001b[0;34m)\u001b[0m\u001b[0;34m:\u001b[0m\u001b[0;34m\u001b[0m\u001b[0;34m\u001b[0m\u001b[0m\n\u001b[1;32m    830\u001b[0m                     \u001b[0;31m# If we have a view on v, we need to make a copy because\u001b[0m\u001b[0;34m\u001b[0m\u001b[0;34m\u001b[0m\u001b[0;34m\u001b[0m\u001b[0m\n",
            "\u001b[0;32m<ipython-input-29-aa6d6a2e1343>\u001b[0m in \u001b[0;36m<lambda>\u001b[0;34m(row)\u001b[0m\n\u001b[1;32m      4\u001b[0m   \u001b[0;32mreturn\u001b[0m \u001b[0mmodels\u001b[0m\u001b[0;34m[\u001b[0m\u001b[0mi\u001b[0m\u001b[0;34m-\u001b[0m\u001b[0;36m1\u001b[0m\u001b[0;34m]\u001b[0m\u001b[0;34m.\u001b[0m\u001b[0mpredict\u001b[0m\u001b[0;34m(\u001b[0m\u001b[0mX\u001b[0m\u001b[0;34m)\u001b[0m\u001b[0;34m[\u001b[0m\u001b[0;36m0\u001b[0m\u001b[0;34m]\u001b[0m\u001b[0;34m\u001b[0m\u001b[0;34m\u001b[0m\u001b[0m\n\u001b[1;32m      5\u001b[0m \u001b[0;34m\u001b[0m\u001b[0m\n\u001b[0;32m----> 6\u001b[0;31m \u001b[0mtest\u001b[0m\u001b[0;34m[\u001b[0m\u001b[0;34m'prediction'\u001b[0m\u001b[0;34m]\u001b[0m  \u001b[0;34m=\u001b[0m \u001b[0mtest\u001b[0m\u001b[0;34m.\u001b[0m\u001b[0mapply\u001b[0m\u001b[0;34m(\u001b[0m\u001b[0;32mlambda\u001b[0m \u001b[0mrow\u001b[0m\u001b[0;34m:\u001b[0m \u001b[0mpred\u001b[0m\u001b[0;34m(\u001b[0m\u001b[0mrow\u001b[0m\u001b[0;34m)\u001b[0m\u001b[0;34m,\u001b[0m \u001b[0maxis\u001b[0m \u001b[0;34m=\u001b[0m \u001b[0;36m1\u001b[0m\u001b[0;34m)\u001b[0m\u001b[0;34m\u001b[0m\u001b[0;34m\u001b[0m\u001b[0m\n\u001b[0m\u001b[1;32m      7\u001b[0m \u001b[0;34m\u001b[0m\u001b[0m\n",
            "\u001b[0;32m<ipython-input-29-aa6d6a2e1343>\u001b[0m in \u001b[0;36mpred\u001b[0;34m(row)\u001b[0m\n\u001b[1;32m      2\u001b[0m   \u001b[0mi\u001b[0m \u001b[0;34m=\u001b[0m \u001b[0mrow\u001b[0m\u001b[0;34m[\u001b[0m\u001b[0;34m'family_id'\u001b[0m\u001b[0;34m]\u001b[0m\u001b[0;34m\u001b[0m\u001b[0;34m\u001b[0m\u001b[0m\n\u001b[1;32m      3\u001b[0m   \u001b[0mX\u001b[0m \u001b[0;34m=\u001b[0m \u001b[0mrow\u001b[0m\u001b[0;34m[\u001b[0m\u001b[0;34m[\u001b[0m\u001b[0;34m'store_nbr'\u001b[0m\u001b[0;34m,\u001b[0m \u001b[0;34m'onpromotion'\u001b[0m\u001b[0;34m,\u001b[0m \u001b[0;34m'oilprice'\u001b[0m\u001b[0;34m,\u001b[0m \u001b[0;34m'holiday'\u001b[0m\u001b[0;34m,\u001b[0m \u001b[0;34m'weekday'\u001b[0m\u001b[0;34m,\u001b[0m \u001b[0;34m'day'\u001b[0m\u001b[0;34m,\u001b[0m \u001b[0;34m'month'\u001b[0m\u001b[0;34m]\u001b[0m\u001b[0;34m]\u001b[0m\u001b[0;34m.\u001b[0m\u001b[0mvalues\u001b[0m\u001b[0;34m.\u001b[0m\u001b[0mreshape\u001b[0m\u001b[0;34m(\u001b[0m\u001b[0;36m1\u001b[0m\u001b[0;34m,\u001b[0m\u001b[0;34m-\u001b[0m\u001b[0;36m1\u001b[0m\u001b[0;34m)\u001b[0m\u001b[0;34m\u001b[0m\u001b[0;34m\u001b[0m\u001b[0m\n\u001b[0;32m----> 4\u001b[0;31m   \u001b[0;32mreturn\u001b[0m \u001b[0mmodels\u001b[0m\u001b[0;34m[\u001b[0m\u001b[0mi\u001b[0m\u001b[0;34m-\u001b[0m\u001b[0;36m1\u001b[0m\u001b[0;34m]\u001b[0m\u001b[0;34m.\u001b[0m\u001b[0mpredict\u001b[0m\u001b[0;34m(\u001b[0m\u001b[0mX\u001b[0m\u001b[0;34m)\u001b[0m\u001b[0;34m[\u001b[0m\u001b[0;36m0\u001b[0m\u001b[0;34m]\u001b[0m\u001b[0;34m\u001b[0m\u001b[0;34m\u001b[0m\u001b[0m\n\u001b[0m\u001b[1;32m      5\u001b[0m \u001b[0;34m\u001b[0m\u001b[0m\n\u001b[1;32m      6\u001b[0m \u001b[0mtest\u001b[0m\u001b[0;34m[\u001b[0m\u001b[0;34m'prediction'\u001b[0m\u001b[0;34m]\u001b[0m  \u001b[0;34m=\u001b[0m \u001b[0mtest\u001b[0m\u001b[0;34m.\u001b[0m\u001b[0mapply\u001b[0m\u001b[0;34m(\u001b[0m\u001b[0;32mlambda\u001b[0m \u001b[0mrow\u001b[0m\u001b[0;34m:\u001b[0m \u001b[0mpred\u001b[0m\u001b[0;34m(\u001b[0m\u001b[0mrow\u001b[0m\u001b[0;34m)\u001b[0m\u001b[0;34m,\u001b[0m \u001b[0maxis\u001b[0m \u001b[0;34m=\u001b[0m \u001b[0;36m1\u001b[0m\u001b[0;34m)\u001b[0m\u001b[0;34m\u001b[0m\u001b[0;34m\u001b[0m\u001b[0m\n",
            "\u001b[0;32m/usr/local/lib/python3.7/dist-packages/sklearn/ensemble/_forest.py\u001b[0m in \u001b[0;36mpredict\u001b[0;34m(self, X)\u001b[0m\n\u001b[1;32m    969\u001b[0m         \u001b[0mcheck_is_fitted\u001b[0m\u001b[0;34m(\u001b[0m\u001b[0mself\u001b[0m\u001b[0;34m)\u001b[0m\u001b[0;34m\u001b[0m\u001b[0;34m\u001b[0m\u001b[0m\n\u001b[1;32m    970\u001b[0m         \u001b[0;31m# Check data\u001b[0m\u001b[0;34m\u001b[0m\u001b[0;34m\u001b[0m\u001b[0;34m\u001b[0m\u001b[0m\n\u001b[0;32m--> 971\u001b[0;31m         \u001b[0mX\u001b[0m \u001b[0;34m=\u001b[0m \u001b[0mself\u001b[0m\u001b[0;34m.\u001b[0m\u001b[0m_validate_X_predict\u001b[0m\u001b[0;34m(\u001b[0m\u001b[0mX\u001b[0m\u001b[0;34m)\u001b[0m\u001b[0;34m\u001b[0m\u001b[0;34m\u001b[0m\u001b[0m\n\u001b[0m\u001b[1;32m    972\u001b[0m \u001b[0;34m\u001b[0m\u001b[0m\n\u001b[1;32m    973\u001b[0m         \u001b[0;31m# Assign chunk of trees to jobs\u001b[0m\u001b[0;34m\u001b[0m\u001b[0;34m\u001b[0m\u001b[0;34m\u001b[0m\u001b[0m\n",
            "\u001b[0;32m/usr/local/lib/python3.7/dist-packages/sklearn/ensemble/_forest.py\u001b[0m in \u001b[0;36m_validate_X_predict\u001b[0;34m(self, X)\u001b[0m\n\u001b[1;32m    577\u001b[0m         Validate X whenever one tries to predict, apply, predict_proba.\"\"\"\n\u001b[1;32m    578\u001b[0m         \u001b[0mcheck_is_fitted\u001b[0m\u001b[0;34m(\u001b[0m\u001b[0mself\u001b[0m\u001b[0;34m)\u001b[0m\u001b[0;34m\u001b[0m\u001b[0;34m\u001b[0m\u001b[0m\n\u001b[0;32m--> 579\u001b[0;31m         \u001b[0mX\u001b[0m \u001b[0;34m=\u001b[0m \u001b[0mself\u001b[0m\u001b[0;34m.\u001b[0m\u001b[0m_validate_data\u001b[0m\u001b[0;34m(\u001b[0m\u001b[0mX\u001b[0m\u001b[0;34m,\u001b[0m \u001b[0mdtype\u001b[0m\u001b[0;34m=\u001b[0m\u001b[0mDTYPE\u001b[0m\u001b[0;34m,\u001b[0m \u001b[0maccept_sparse\u001b[0m\u001b[0;34m=\u001b[0m\u001b[0;34m\"csr\"\u001b[0m\u001b[0;34m,\u001b[0m \u001b[0mreset\u001b[0m\u001b[0;34m=\u001b[0m\u001b[0;32mFalse\u001b[0m\u001b[0;34m)\u001b[0m\u001b[0;34m\u001b[0m\u001b[0;34m\u001b[0m\u001b[0m\n\u001b[0m\u001b[1;32m    580\u001b[0m         \u001b[0;32mif\u001b[0m \u001b[0missparse\u001b[0m\u001b[0;34m(\u001b[0m\u001b[0mX\u001b[0m\u001b[0;34m)\u001b[0m \u001b[0;32mand\u001b[0m \u001b[0;34m(\u001b[0m\u001b[0mX\u001b[0m\u001b[0;34m.\u001b[0m\u001b[0mindices\u001b[0m\u001b[0;34m.\u001b[0m\u001b[0mdtype\u001b[0m \u001b[0;34m!=\u001b[0m \u001b[0mnp\u001b[0m\u001b[0;34m.\u001b[0m\u001b[0mintc\u001b[0m \u001b[0;32mor\u001b[0m \u001b[0mX\u001b[0m\u001b[0;34m.\u001b[0m\u001b[0mindptr\u001b[0m\u001b[0;34m.\u001b[0m\u001b[0mdtype\u001b[0m \u001b[0;34m!=\u001b[0m \u001b[0mnp\u001b[0m\u001b[0;34m.\u001b[0m\u001b[0mintc\u001b[0m\u001b[0;34m)\u001b[0m\u001b[0;34m:\u001b[0m\u001b[0;34m\u001b[0m\u001b[0;34m\u001b[0m\u001b[0m\n\u001b[1;32m    581\u001b[0m             \u001b[0;32mraise\u001b[0m \u001b[0mValueError\u001b[0m\u001b[0;34m(\u001b[0m\u001b[0;34m\"No support for np.int64 index based sparse matrices\"\u001b[0m\u001b[0;34m)\u001b[0m\u001b[0;34m\u001b[0m\u001b[0;34m\u001b[0m\u001b[0m\n",
            "\u001b[0;32m/usr/local/lib/python3.7/dist-packages/sklearn/base.py\u001b[0m in \u001b[0;36m_validate_data\u001b[0;34m(self, X, y, reset, validate_separately, **check_params)\u001b[0m\n\u001b[1;32m    583\u001b[0m \u001b[0;34m\u001b[0m\u001b[0m\n\u001b[1;32m    584\u001b[0m         \u001b[0;32mif\u001b[0m \u001b[0;32mnot\u001b[0m \u001b[0mno_val_X\u001b[0m \u001b[0;32mand\u001b[0m \u001b[0mcheck_params\u001b[0m\u001b[0;34m.\u001b[0m\u001b[0mget\u001b[0m\u001b[0;34m(\u001b[0m\u001b[0;34m\"ensure_2d\"\u001b[0m\u001b[0;34m,\u001b[0m \u001b[0;32mTrue\u001b[0m\u001b[0;34m)\u001b[0m\u001b[0;34m:\u001b[0m\u001b[0;34m\u001b[0m\u001b[0;34m\u001b[0m\u001b[0m\n\u001b[0;32m--> 585\u001b[0;31m             \u001b[0mself\u001b[0m\u001b[0;34m.\u001b[0m\u001b[0m_check_n_features\u001b[0m\u001b[0;34m(\u001b[0m\u001b[0mX\u001b[0m\u001b[0;34m,\u001b[0m \u001b[0mreset\u001b[0m\u001b[0;34m=\u001b[0m\u001b[0mreset\u001b[0m\u001b[0;34m)\u001b[0m\u001b[0;34m\u001b[0m\u001b[0;34m\u001b[0m\u001b[0m\n\u001b[0m\u001b[1;32m    586\u001b[0m \u001b[0;34m\u001b[0m\u001b[0m\n\u001b[1;32m    587\u001b[0m         \u001b[0;32mreturn\u001b[0m \u001b[0mout\u001b[0m\u001b[0;34m\u001b[0m\u001b[0;34m\u001b[0m\u001b[0m\n",
            "\u001b[0;32m/usr/local/lib/python3.7/dist-packages/sklearn/base.py\u001b[0m in \u001b[0;36m_check_n_features\u001b[0;34m(self, X, reset)\u001b[0m\n\u001b[1;32m    399\u001b[0m         \u001b[0;32mif\u001b[0m \u001b[0mn_features\u001b[0m \u001b[0;34m!=\u001b[0m \u001b[0mself\u001b[0m\u001b[0;34m.\u001b[0m\u001b[0mn_features_in_\u001b[0m\u001b[0;34m:\u001b[0m\u001b[0;34m\u001b[0m\u001b[0;34m\u001b[0m\u001b[0m\n\u001b[1;32m    400\u001b[0m             raise ValueError(\n\u001b[0;32m--> 401\u001b[0;31m                 \u001b[0;34mf\"X has {n_features} features, but {self.__class__.__name__} \"\u001b[0m\u001b[0;34m\u001b[0m\u001b[0;34m\u001b[0m\u001b[0m\n\u001b[0m\u001b[1;32m    402\u001b[0m                 \u001b[0;34mf\"is expecting {self.n_features_in_} features as input.\"\u001b[0m\u001b[0;34m\u001b[0m\u001b[0;34m\u001b[0m\u001b[0m\n\u001b[1;32m    403\u001b[0m             )\n",
            "\u001b[0;31mValueError\u001b[0m: X has 7 features, but RandomForestRegressor is expecting 9 features as input."
          ]
        }
      ],
      "source": [
        "def pred(row):\n",
        "  i = row['family_id']\n",
        "  X = row[['store_nbr', 'onpromotion', 'oilprice', 'holiday', 'weekday', 'day', 'month']].values.reshape(1,-1)\n",
        "  return models[i-1].predict(X)[0]\n",
        "\n",
        "test['prediction']  = test.apply(lambda row: pred(row), axis = 1)\n",
        "\n"
      ]
    },
    {
      "cell_type": "code",
      "execution_count": null,
      "metadata": {
        "colab": {
          "background_save": true
        },
        "id": "Lj33xktf90kZ"
      },
      "outputs": [],
      "source": [
        "path = '/content/submission.csv'\n",
        "test[['id', 'sales']].to_csv(path, header = 'id,sales', index = False)"
      ]
    }
  ],
  "metadata": {
    "colab": {
      "collapsed_sections": [
        "b1WP7j07RPlA"
      ],
      "name": "AML_Code.ipynb",
      "provenance": [],
      "authorship_tag": "ABX9TyPiG603ggcDf8BRNFoSStDG",
      "include_colab_link": true
    },
    "kernelspec": {
      "display_name": "Python 3",
      "name": "python3"
    },
    "language_info": {
      "name": "python"
    }
  },
  "nbformat": 4,
  "nbformat_minor": 0
}